{
 "cells": [
  {
   "cell_type": "markdown",
   "metadata": {},
   "source": [
    "# Working with Customer Purchases Data"
   ]
  },
  {
   "cell_type": "code",
   "execution_count": 1,
   "metadata": {},
   "outputs": [
    {
     "name": "stdout",
     "output_type": "stream",
     "text": [
      "Note: you may need to restart the kernel to use updated packages.\n"
     ]
    },
    {
     "name": "stderr",
     "output_type": "stream",
     "text": [
      "\n",
      "Usage:   \n",
      "  c:\\Users\\CAPACITI-JHB\\AppData\\Local\\Programs\\Python\\Python313\\python.exe -m pip install [options] <requirement specifier> [package-index-options] ...\n",
      "  c:\\Users\\CAPACITI-JHB\\AppData\\Local\\Programs\\Python\\Python313\\python.exe -m pip install [options] -r <requirements file> [package-index-options] ...\n",
      "  c:\\Users\\CAPACITI-JHB\\AppData\\Local\\Programs\\Python\\Python313\\python.exe -m pip install [options] [-e] <vcs project url> ...\n",
      "  c:\\Users\\CAPACITI-JHB\\AppData\\Local\\Programs\\Python\\Python313\\python.exe -m pip install [options] [-e] <local project path> ...\n",
      "  c:\\Users\\CAPACITI-JHB\\AppData\\Local\\Programs\\Python\\Python313\\python.exe -m pip install [options] <archive url/path> ...\n",
      "\n",
      "no such option: -u\n"
     ]
    }
   ],
   "source": [
    "pip install ipykernel -U --user --force-reinstall -quiet"
   ]
  },
  {
   "cell_type": "code",
   "execution_count": 2,
   "metadata": {},
   "outputs": [
    {
     "name": "stdout",
     "output_type": "stream",
     "text": [
      "Note: you may need to restart the kernel to use updated packages.\n"
     ]
    }
   ],
   "source": [
    "pip install pandas numpy scikit-learn --quiet"
   ]
  },
  {
   "cell_type": "code",
   "execution_count": 3,
   "metadata": {},
   "outputs": [
    {
     "name": "stdout",
     "output_type": "stream",
     "text": [
      "Note: you may need to restart the kernel to use updated packages.\n"
     ]
    }
   ],
   "source": [
    "pip install matplotlib --quiet"
   ]
  },
  {
   "cell_type": "code",
   "execution_count": 4,
   "metadata": {},
   "outputs": [],
   "source": [
    "import pandas as pd\n",
    "import numpy as np\n",
    "from sklearn.experimental import enable_iterative_imputer\n",
    "from sklearn.impute import KNNImputer, SimpleImputer, IterativeImputer\n",
    "from sklearn.model_selection import train_test_split\n",
    "from sklearn.linear_model import LinearRegression\n",
    "from sklearn.metrics import mean_squared_error\n",
    "from sklearn.preprocessing import LabelEncoder, MinMaxScaler, StandardScaler\n",
    "from scipy import stats\n",
    "import matplotlib.pyplot as plt\n",
    "from sklearn.model_selection import train_test_split\n",
    "\n"
   ]
  },
  {
   "cell_type": "markdown",
   "metadata": {},
   "source": [
    "### 0. Understanding the Data"
   ]
  },
  {
   "cell_type": "code",
   "execution_count": 5,
   "metadata": {},
   "outputs": [
    {
     "data": {
      "text/html": [
       "<div>\n",
       "<style scoped>\n",
       "    .dataframe tbody tr th:only-of-type {\n",
       "        vertical-align: middle;\n",
       "    }\n",
       "\n",
       "    .dataframe tbody tr th {\n",
       "        vertical-align: top;\n",
       "    }\n",
       "\n",
       "    .dataframe thead th {\n",
       "        text-align: right;\n",
       "    }\n",
       "</style>\n",
       "<table border=\"1\" class=\"dataframe\">\n",
       "  <thead>\n",
       "    <tr style=\"text-align: right;\">\n",
       "      <th></th>\n",
       "      <th>Unnamed: 0</th>\n",
       "      <th>Customer_ID</th>\n",
       "      <th>Age</th>\n",
       "      <th>Salary</th>\n",
       "      <th>City</th>\n",
       "      <th>Gender</th>\n",
       "      <th>Purchase_Amount</th>\n",
       "      <th>Signup_Date</th>\n",
       "      <th>Marital_Status</th>\n",
       "      <th>Education</th>\n",
       "    </tr>\n",
       "  </thead>\n",
       "  <tbody>\n",
       "    <tr>\n",
       "      <th>0</th>\n",
       "      <td>0</td>\n",
       "      <td>1</td>\n",
       "      <td>40.0</td>\n",
       "      <td>70000.0</td>\n",
       "      <td>New York</td>\n",
       "      <td>NaN</td>\n",
       "      <td>619</td>\n",
       "      <td>2022-01-01</td>\n",
       "      <td>Widowed</td>\n",
       "      <td>PhD</td>\n",
       "    </tr>\n",
       "    <tr>\n",
       "      <th>1</th>\n",
       "      <td>1</td>\n",
       "      <td>2</td>\n",
       "      <td>45.0</td>\n",
       "      <td>30000.0</td>\n",
       "      <td>Houston</td>\n",
       "      <td>Female</td>\n",
       "      <td>1945</td>\n",
       "      <td>2022-01-02</td>\n",
       "      <td>Single</td>\n",
       "      <td>PhD</td>\n",
       "    </tr>\n",
       "    <tr>\n",
       "      <th>2</th>\n",
       "      <td>2</td>\n",
       "      <td>3</td>\n",
       "      <td>35.0</td>\n",
       "      <td>30000.0</td>\n",
       "      <td>New York</td>\n",
       "      <td>Male</td>\n",
       "      <td>2783</td>\n",
       "      <td>2022-01-03</td>\n",
       "      <td>NaN</td>\n",
       "      <td>Master</td>\n",
       "    </tr>\n",
       "    <tr>\n",
       "      <th>3</th>\n",
       "      <td>3</td>\n",
       "      <td>4</td>\n",
       "      <td>45.0</td>\n",
       "      <td>30000.0</td>\n",
       "      <td>NaN</td>\n",
       "      <td>Other</td>\n",
       "      <td>3913</td>\n",
       "      <td>2022-01-04</td>\n",
       "      <td>Married</td>\n",
       "      <td>Bachelor</td>\n",
       "    </tr>\n",
       "    <tr>\n",
       "      <th>4</th>\n",
       "      <td>4</td>\n",
       "      <td>5</td>\n",
       "      <td>45.0</td>\n",
       "      <td>30000.0</td>\n",
       "      <td>New York</td>\n",
       "      <td>Male</td>\n",
       "      <td>4771</td>\n",
       "      <td>2022-01-05</td>\n",
       "      <td>Married</td>\n",
       "      <td>NaN</td>\n",
       "    </tr>\n",
       "  </tbody>\n",
       "</table>\n",
       "</div>"
      ],
      "text/plain": [
       "   Unnamed: 0  Customer_ID   Age   Salary      City  Gender  Purchase_Amount  \\\n",
       "0           0            1  40.0  70000.0  New York     NaN              619   \n",
       "1           1            2  45.0  30000.0   Houston  Female             1945   \n",
       "2           2            3  35.0  30000.0  New York    Male             2783   \n",
       "3           3            4  45.0  30000.0       NaN   Other             3913   \n",
       "4           4            5  45.0  30000.0  New York    Male             4771   \n",
       "\n",
       "  Signup_Date Marital_Status Education  \n",
       "0  2022-01-01        Widowed       PhD  \n",
       "1  2022-01-02         Single       PhD  \n",
       "2  2022-01-03            NaN    Master  \n",
       "3  2022-01-04        Married  Bachelor  \n",
       "4  2022-01-05        Married       NaN  "
      ]
     },
     "execution_count": 5,
     "metadata": {},
     "output_type": "execute_result"
    }
   ],
   "source": [
    "#data = pd.read_csv('https://raw.githubusercontent.com/Impact-Insights/Data-Engineering-Projects/refs/heads/main/Customer%20Purchases%20Project/Customer_Purchase_Data.csv?token=GHSAT0AAAAAAC7OUMXNMPAYM6LJAYMB27XKZ6HAD7A')\n",
    "data = pd.read_csv(r'Customer_Purchase_Data.csv')\n",
    "data.head()"
   ]
  },
  {
   "cell_type": "code",
   "execution_count": 6,
   "metadata": {},
   "outputs": [
    {
     "name": "stdout",
     "output_type": "stream",
     "text": [
      "<class 'pandas.core.frame.DataFrame'>\n",
      "RangeIndex: 105 entries, 0 to 104\n",
      "Data columns (total 10 columns):\n",
      " #   Column           Non-Null Count  Dtype  \n",
      "---  ------           --------------  -----  \n",
      " 0   Unnamed: 0       105 non-null    int64  \n",
      " 1   Customer_ID      105 non-null    int64  \n",
      " 2   Age              88 non-null     float64\n",
      " 3   Salary           90 non-null     float64\n",
      " 4   City             90 non-null     object \n",
      " 5   Gender           74 non-null     object \n",
      " 6   Purchase_Amount  105 non-null    int64  \n",
      " 7   Signup_Date      105 non-null    object \n",
      " 8   Marital_Status   84 non-null     object \n",
      " 9   Education        76 non-null     object \n",
      "dtypes: float64(2), int64(3), object(5)\n",
      "memory usage: 8.3+ KB\n"
     ]
    }
   ],
   "source": [
    "data.info()"
   ]
  },
  {
   "cell_type": "code",
   "execution_count": 7,
   "metadata": {},
   "outputs": [
    {
     "data": {
      "text/html": [
       "<div>\n",
       "<style scoped>\n",
       "    .dataframe tbody tr th:only-of-type {\n",
       "        vertical-align: middle;\n",
       "    }\n",
       "\n",
       "    .dataframe tbody tr th {\n",
       "        vertical-align: top;\n",
       "    }\n",
       "\n",
       "    .dataframe thead th {\n",
       "        text-align: right;\n",
       "    }\n",
       "</style>\n",
       "<table border=\"1\" class=\"dataframe\">\n",
       "  <thead>\n",
       "    <tr style=\"text-align: right;\">\n",
       "      <th></th>\n",
       "      <th>Customer_ID</th>\n",
       "      <th>Age</th>\n",
       "      <th>Salary</th>\n",
       "      <th>City</th>\n",
       "      <th>Gender</th>\n",
       "      <th>Purchase_Amount</th>\n",
       "      <th>Signup_Date</th>\n",
       "      <th>Marital_Status</th>\n",
       "      <th>Education</th>\n",
       "    </tr>\n",
       "  </thead>\n",
       "  <tbody>\n",
       "    <tr>\n",
       "      <th>0</th>\n",
       "      <td>1</td>\n",
       "      <td>40.0</td>\n",
       "      <td>70000.0</td>\n",
       "      <td>New York</td>\n",
       "      <td>NaN</td>\n",
       "      <td>619</td>\n",
       "      <td>2022-01-01</td>\n",
       "      <td>Widowed</td>\n",
       "      <td>PhD</td>\n",
       "    </tr>\n",
       "    <tr>\n",
       "      <th>1</th>\n",
       "      <td>2</td>\n",
       "      <td>45.0</td>\n",
       "      <td>30000.0</td>\n",
       "      <td>Houston</td>\n",
       "      <td>Female</td>\n",
       "      <td>1945</td>\n",
       "      <td>2022-01-02</td>\n",
       "      <td>Single</td>\n",
       "      <td>PhD</td>\n",
       "    </tr>\n",
       "    <tr>\n",
       "      <th>2</th>\n",
       "      <td>3</td>\n",
       "      <td>35.0</td>\n",
       "      <td>30000.0</td>\n",
       "      <td>New York</td>\n",
       "      <td>Male</td>\n",
       "      <td>2783</td>\n",
       "      <td>2022-01-03</td>\n",
       "      <td>NaN</td>\n",
       "      <td>Master</td>\n",
       "    </tr>\n",
       "    <tr>\n",
       "      <th>3</th>\n",
       "      <td>4</td>\n",
       "      <td>45.0</td>\n",
       "      <td>30000.0</td>\n",
       "      <td>NaN</td>\n",
       "      <td>Other</td>\n",
       "      <td>3913</td>\n",
       "      <td>2022-01-04</td>\n",
       "      <td>Married</td>\n",
       "      <td>Bachelor</td>\n",
       "    </tr>\n",
       "    <tr>\n",
       "      <th>4</th>\n",
       "      <td>5</td>\n",
       "      <td>45.0</td>\n",
       "      <td>30000.0</td>\n",
       "      <td>New York</td>\n",
       "      <td>Male</td>\n",
       "      <td>4771</td>\n",
       "      <td>2022-01-05</td>\n",
       "      <td>Married</td>\n",
       "      <td>NaN</td>\n",
       "    </tr>\n",
       "  </tbody>\n",
       "</table>\n",
       "</div>"
      ],
      "text/plain": [
       "   Customer_ID   Age   Salary      City  Gender  Purchase_Amount Signup_Date  \\\n",
       "0            1  40.0  70000.0  New York     NaN              619  2022-01-01   \n",
       "1            2  45.0  30000.0   Houston  Female             1945  2022-01-02   \n",
       "2            3  35.0  30000.0  New York    Male             2783  2022-01-03   \n",
       "3            4  45.0  30000.0       NaN   Other             3913  2022-01-04   \n",
       "4            5  45.0  30000.0  New York    Male             4771  2022-01-05   \n",
       "\n",
       "  Marital_Status Education  \n",
       "0        Widowed       PhD  \n",
       "1         Single       PhD  \n",
       "2            NaN    Master  \n",
       "3        Married  Bachelor  \n",
       "4        Married       NaN  "
      ]
     },
     "execution_count": 7,
     "metadata": {},
     "output_type": "execute_result"
    }
   ],
   "source": [
    "data = data.drop(columns = ['Unnamed: 0'])\n",
    "data.head()"
   ]
  },
  {
   "cell_type": "code",
   "execution_count": 8,
   "metadata": {},
   "outputs": [
    {
     "data": {
      "text/html": [
       "<div>\n",
       "<style scoped>\n",
       "    .dataframe tbody tr th:only-of-type {\n",
       "        vertical-align: middle;\n",
       "    }\n",
       "\n",
       "    .dataframe tbody tr th {\n",
       "        vertical-align: top;\n",
       "    }\n",
       "\n",
       "    .dataframe thead th {\n",
       "        text-align: right;\n",
       "    }\n",
       "</style>\n",
       "<table border=\"1\" class=\"dataframe\">\n",
       "  <thead>\n",
       "    <tr style=\"text-align: right;\">\n",
       "      <th></th>\n",
       "      <th>Customer_ID</th>\n",
       "      <th>Age</th>\n",
       "      <th>Salary</th>\n",
       "      <th>Purchase_Amount</th>\n",
       "    </tr>\n",
       "  </thead>\n",
       "  <tbody>\n",
       "    <tr>\n",
       "      <th>count</th>\n",
       "      <td>105.000000</td>\n",
       "      <td>88.000000</td>\n",
       "      <td>90.000000</td>\n",
       "      <td>105.000000</td>\n",
       "    </tr>\n",
       "    <tr>\n",
       "      <th>mean</th>\n",
       "      <td>48.238095</td>\n",
       "      <td>36.420455</td>\n",
       "      <td>58500.000000</td>\n",
       "      <td>2685.571429</td>\n",
       "    </tr>\n",
       "    <tr>\n",
       "      <th>std</th>\n",
       "      <td>30.076672</td>\n",
       "      <td>6.820728</td>\n",
       "      <td>101578.690369</td>\n",
       "      <td>1450.074513</td>\n",
       "    </tr>\n",
       "    <tr>\n",
       "      <th>min</th>\n",
       "      <td>1.000000</td>\n",
       "      <td>25.000000</td>\n",
       "      <td>-5000.000000</td>\n",
       "      <td>54.000000</td>\n",
       "    </tr>\n",
       "    <tr>\n",
       "      <th>25%</th>\n",
       "      <td>22.000000</td>\n",
       "      <td>30.000000</td>\n",
       "      <td>30000.000000</td>\n",
       "      <td>1419.000000</td>\n",
       "    </tr>\n",
       "    <tr>\n",
       "      <th>50%</th>\n",
       "      <td>48.000000</td>\n",
       "      <td>40.000000</td>\n",
       "      <td>50000.000000</td>\n",
       "      <td>2794.000000</td>\n",
       "    </tr>\n",
       "    <tr>\n",
       "      <th>75%</th>\n",
       "      <td>74.000000</td>\n",
       "      <td>40.000000</td>\n",
       "      <td>60000.000000</td>\n",
       "      <td>3913.000000</td>\n",
       "    </tr>\n",
       "    <tr>\n",
       "      <th>max</th>\n",
       "      <td>100.000000</td>\n",
       "      <td>45.000000</td>\n",
       "      <td>1000000.000000</td>\n",
       "      <td>4983.000000</td>\n",
       "    </tr>\n",
       "  </tbody>\n",
       "</table>\n",
       "</div>"
      ],
      "text/plain": [
       "       Customer_ID        Age          Salary  Purchase_Amount\n",
       "count   105.000000  88.000000       90.000000       105.000000\n",
       "mean     48.238095  36.420455    58500.000000      2685.571429\n",
       "std      30.076672   6.820728   101578.690369      1450.074513\n",
       "min       1.000000  25.000000    -5000.000000        54.000000\n",
       "25%      22.000000  30.000000    30000.000000      1419.000000\n",
       "50%      48.000000  40.000000    50000.000000      2794.000000\n",
       "75%      74.000000  40.000000    60000.000000      3913.000000\n",
       "max     100.000000  45.000000  1000000.000000      4983.000000"
      ]
     },
     "execution_count": 8,
     "metadata": {},
     "output_type": "execute_result"
    }
   ],
   "source": [
    "data.describe()"
   ]
  },
  {
   "cell_type": "markdown",
   "metadata": {},
   "source": [
    "### 1. Handling Missing Values\n",
    "\n",
    "1. Handling Missing Data\n",
    "* Identify all columns with missing values in the dataset. Suggest and implement two different techniques to handle missing values for each of these columns. Compare the effects of each technique."
   ]
  },
  {
   "cell_type": "markdown",
   "metadata": {},
   "source": [
    "\n",
    "In the `Age` column we have 17 missing values.\n",
    "* Mean Imputation: We can handle this by filling the NaN values with the mean of the `Age` column\n",
    "* We can handle this by using forward fill or backward fill\n",
    "* Mode Imputation: We can handle this by filling the NaN values with the mode of the `Age` column\n",
    "* Median Imputation: Replace missing values with the median of the existing values.\n",
    "* K-Nearest Neighbors (KNN) Imputation: Impute missing values based on the average (for numeric) or mode (for categorical) of the k most similar data points.\n",
    "\n",
    "The most convenient method is to fill using the KNN. Why?\n",
    "\n",
    "In the `Salary` column we have 15 missing values.\n",
    "* Since this is numerical data, we can use the same imputation methods as in the `Age` column.\n",
    "The most convenient will be to use the Mean Imputation method.\n",
    "\n",
    "In the `City` column we have 15 missing values.\n",
    "* The method that is suitable in this case is the Mode Imputation because we are working with Categorical Data.\n",
    "* Using classifier algorithms\n",
    "\n",
    "In the `Gender` column we have 31 missing values.\n",
    "* Just as this is Categorical data, we most convenient method is to use Mode Imputation.\n",
    "\n",
    "In the `Marital Status` column we have 21 missing values.\n",
    "* Just as this is Categorical data, we most convenient method is to use Mode Imputation.\n",
    "\n",
    "In the `Education` column we have 21 missing values.\n",
    "* Just as this is Categorical data, we most convenient method is to use Mode Imputation.\n"
   ]
  },
  {
   "cell_type": "markdown",
   "metadata": {},
   "source": [
    "#### Handling Numerical Missing values using the mean."
   ]
  },
  {
   "cell_type": "code",
   "execution_count": 9,
   "metadata": {},
   "outputs": [
    {
     "name": "stdout",
     "output_type": "stream",
     "text": [
      "The Age Mean value of the original data is:  36.42\n",
      "The Salary mean value of the original data is:  58500.0\n"
     ]
    }
   ],
   "source": [
    "print(\"The Age Mean value of the original data is: \", round(data['Age'].mean(), 2))\n",
    "print(\"The Salary mean value of the original data is: \", round(data['Salary'].mean(), 2))"
   ]
  },
  {
   "cell_type": "code",
   "execution_count": 10,
   "metadata": {},
   "outputs": [
    {
     "name": "stdout",
     "output_type": "stream",
     "text": [
      "The Age Mean value of the mean imputed data is:  36.42\n",
      "The Salary mean value of the mean imputed data is:  58500.0\n"
     ]
    }
   ],
   "source": [
    "#Numerical Data\n",
    "data_mean_imputed = data.copy(deep=True)\n",
    "\n",
    "\n",
    "data_mean_imputed.loc[:,'Age'] = data_mean_imputed.loc[:, 'Age'].fillna(data_mean_imputed['Age'].mean())\n",
    "data_mean_imputed.loc[:, 'Salary'] = data_mean_imputed.loc[:, 'Salary'].fillna(data_mean_imputed['Salary'].mean())\n",
    "\n",
    "#Checking the Mean Difference\n",
    "print(\"The Age Mean value of the mean imputed data is: \", round(data_mean_imputed['Age'].mean(), 2))\n",
    "print(\"The Salary mean value of the mean imputed data is: \", round(data_mean_imputed['Salary'].mean(), 2))"
   ]
  },
  {
   "cell_type": "code",
   "execution_count": 11,
   "metadata": {},
   "outputs": [
    {
     "data": {
      "text/plain": [
       "Customer_ID         0\n",
       "Age                 0\n",
       "Salary              0\n",
       "City               15\n",
       "Gender             31\n",
       "Purchase_Amount     0\n",
       "Signup_Date         0\n",
       "Marital_Status     21\n",
       "Education          29\n",
       "dtype: int64"
      ]
     },
     "execution_count": 11,
     "metadata": {},
     "output_type": "execute_result"
    }
   ],
   "source": [
    "data_mean_imputed.isna().sum()"
   ]
  },
  {
   "cell_type": "markdown",
   "metadata": {},
   "source": [
    "#### Handling Numerical missing values using the KNN Imputer."
   ]
  },
  {
   "cell_type": "code",
   "execution_count": 12,
   "metadata": {},
   "outputs": [],
   "source": [
    "data_mean_knn_imputed = data.copy(deep=True)\n",
    "knnImputer = KNNImputer(n_neighbors=3)\n",
    "data_mean_knn_imputed[['Age', 'Salary', 'Purchase_Amount ']] = knnImputer.fit_transform(data_mean_knn_imputed[['Age', 'Salary', 'Purchase_Amount']])\n",
    "\n",
    "\n",
    "#data_mean_knn_imputed.iloc[:, ['Age', 'Salary']] = knnImputer.fit_transform(data_mean_knn_imputed[:, ['Age', 'Salary']])\n",
    "#data_mean_knn_imputed[['Age', 'Salary']] = knnImputer.fit_transform(data_mean_knn_imputed[['Age', 'Salary']])\n",
    "\n",
    "#data_mean_knn_imputed.iloc[:, ['Age', 'Salary']] = knnImputer.fit_transform(data_mean_knn_imputed[:, ['Age', 'Salary']])\n"
   ]
  },
  {
   "cell_type": "code",
   "execution_count": 13,
   "metadata": {},
   "outputs": [
    {
     "data": {
      "text/plain": [
       "Customer_ID          0\n",
       "Age                  0\n",
       "Salary               0\n",
       "City                15\n",
       "Gender              31\n",
       "Purchase_Amount      0\n",
       "Signup_Date          0\n",
       "Marital_Status      21\n",
       "Education           29\n",
       "Purchase_Amount      0\n",
       "dtype: int64"
      ]
     },
     "execution_count": 13,
     "metadata": {},
     "output_type": "execute_result"
    }
   ],
   "source": [
    "data_mean_knn_imputed.isna().sum()"
   ]
  },
  {
   "cell_type": "code",
   "execution_count": 14,
   "metadata": {},
   "outputs": [
    {
     "name": "stdout",
     "output_type": "stream",
     "text": [
      "The Age Mean value of the KNN imputed data is:  36.62\n",
      "The Salary mean value of the KNN imputed data is:  56619.05\n"
     ]
    }
   ],
   "source": [
    "print(\"The Age Mean value of the KNN imputed data is: \", round(data_mean_knn_imputed['Age'].mean(), 2))\n",
    "print(\"The Salary mean value of the KNN imputed data is: \", round(data_mean_knn_imputed['Salary'].mean(), 2))"
   ]
  },
  {
   "cell_type": "code",
   "execution_count": 15,
   "metadata": {},
   "outputs": [
    {
     "data": {
      "text/plain": [
       "Customer_ID          0\n",
       "Age                  0\n",
       "Salary               0\n",
       "City                15\n",
       "Gender              31\n",
       "Purchase_Amount      0\n",
       "Signup_Date          0\n",
       "Marital_Status      21\n",
       "Education           29\n",
       "Purchase_Amount      0\n",
       "dtype: int64"
      ]
     },
     "execution_count": 15,
     "metadata": {},
     "output_type": "execute_result"
    }
   ],
   "source": [
    "data_mean_knn_imputed.isna().sum()"
   ]
  },
  {
   "cell_type": "markdown",
   "metadata": {},
   "source": [
    "Using the Mean Imputation we get average `Age` as 36.42 and `Salary` as 58500.0.\n",
    "Using the KNN Imputation we get average `Age` as 36.46 and `Salary` as 57193.65.\n",
    "\n",
    "We observe a slight difference in the `Age` average comparing the Mean Imputation and the KNN imputation.\n",
    "We observe a significant difference in the `Salary` average comparing the Mean Imputation and the KNN imputation.\n",
    "\n",
    "\n",
    " Mean imputation is simpler and faster but can introduce bias, while KNN imputation is more sophisticated and preserves data relationships better but is computationally more intensive. The best option to use in our case is the KNN Imputer."
   ]
  },
  {
   "cell_type": "markdown",
   "metadata": {},
   "source": [
    "#### Handling Categorical missing values Using the Dropping Method\n"
   ]
  },
  {
   "cell_type": "code",
   "execution_count": 16,
   "metadata": {},
   "outputs": [],
   "source": [
    "data = data_mean_knn_imputed.copy(deep=True)"
   ]
  },
  {
   "cell_type": "code",
   "execution_count": 17,
   "metadata": {},
   "outputs": [],
   "source": [
    "data.drop(data.columns[9], axis=1, inplace=True)"
   ]
  },
  {
   "cell_type": "code",
   "execution_count": 18,
   "metadata": {},
   "outputs": [
    {
     "data": {
      "text/plain": [
       "Customer_ID         0\n",
       "Age                 0\n",
       "Salary              0\n",
       "City               15\n",
       "Gender             31\n",
       "Purchase_Amount     0\n",
       "Signup_Date         0\n",
       "Marital_Status     21\n",
       "Education          29\n",
       "dtype: int64"
      ]
     },
     "execution_count": 18,
     "metadata": {},
     "output_type": "execute_result"
    }
   ],
   "source": [
    "data.isna().sum()"
   ]
  },
  {
   "cell_type": "code",
   "execution_count": 19,
   "metadata": {},
   "outputs": [],
   "source": [
    "#data.dropna(inplace=True)"
   ]
  },
  {
   "cell_type": "code",
   "execution_count": 20,
   "metadata": {},
   "outputs": [
    {
     "data": {
      "text/html": [
       "<div>\n",
       "<style scoped>\n",
       "    .dataframe tbody tr th:only-of-type {\n",
       "        vertical-align: middle;\n",
       "    }\n",
       "\n",
       "    .dataframe tbody tr th {\n",
       "        vertical-align: top;\n",
       "    }\n",
       "\n",
       "    .dataframe thead th {\n",
       "        text-align: right;\n",
       "    }\n",
       "</style>\n",
       "<table border=\"1\" class=\"dataframe\">\n",
       "  <thead>\n",
       "    <tr style=\"text-align: right;\">\n",
       "      <th></th>\n",
       "      <th>Customer_ID</th>\n",
       "      <th>Age</th>\n",
       "      <th>Salary</th>\n",
       "      <th>City</th>\n",
       "      <th>Gender</th>\n",
       "      <th>Purchase_Amount</th>\n",
       "      <th>Signup_Date</th>\n",
       "      <th>Marital_Status</th>\n",
       "      <th>Education</th>\n",
       "    </tr>\n",
       "  </thead>\n",
       "  <tbody>\n",
       "    <tr>\n",
       "      <th>0</th>\n",
       "      <td>1</td>\n",
       "      <td>40.0</td>\n",
       "      <td>70000.0</td>\n",
       "      <td>New York</td>\n",
       "      <td>NaN</td>\n",
       "      <td>619</td>\n",
       "      <td>2022-01-01</td>\n",
       "      <td>Widowed</td>\n",
       "      <td>PhD</td>\n",
       "    </tr>\n",
       "    <tr>\n",
       "      <th>1</th>\n",
       "      <td>2</td>\n",
       "      <td>45.0</td>\n",
       "      <td>30000.0</td>\n",
       "      <td>Houston</td>\n",
       "      <td>Female</td>\n",
       "      <td>1945</td>\n",
       "      <td>2022-01-02</td>\n",
       "      <td>Single</td>\n",
       "      <td>PhD</td>\n",
       "    </tr>\n",
       "    <tr>\n",
       "      <th>2</th>\n",
       "      <td>3</td>\n",
       "      <td>35.0</td>\n",
       "      <td>30000.0</td>\n",
       "      <td>New York</td>\n",
       "      <td>Male</td>\n",
       "      <td>2783</td>\n",
       "      <td>2022-01-03</td>\n",
       "      <td>NaN</td>\n",
       "      <td>Master</td>\n",
       "    </tr>\n",
       "    <tr>\n",
       "      <th>3</th>\n",
       "      <td>4</td>\n",
       "      <td>45.0</td>\n",
       "      <td>30000.0</td>\n",
       "      <td>NaN</td>\n",
       "      <td>Other</td>\n",
       "      <td>3913</td>\n",
       "      <td>2022-01-04</td>\n",
       "      <td>Married</td>\n",
       "      <td>Bachelor</td>\n",
       "    </tr>\n",
       "    <tr>\n",
       "      <th>4</th>\n",
       "      <td>5</td>\n",
       "      <td>45.0</td>\n",
       "      <td>30000.0</td>\n",
       "      <td>New York</td>\n",
       "      <td>Male</td>\n",
       "      <td>4771</td>\n",
       "      <td>2022-01-05</td>\n",
       "      <td>Married</td>\n",
       "      <td>NaN</td>\n",
       "    </tr>\n",
       "    <tr>\n",
       "      <th>...</th>\n",
       "      <td>...</td>\n",
       "      <td>...</td>\n",
       "      <td>...</td>\n",
       "      <td>...</td>\n",
       "      <td>...</td>\n",
       "      <td>...</td>\n",
       "      <td>...</td>\n",
       "      <td>...</td>\n",
       "      <td>...</td>\n",
       "    </tr>\n",
       "    <tr>\n",
       "      <th>100</th>\n",
       "      <td>1</td>\n",
       "      <td>40.0</td>\n",
       "      <td>70000.0</td>\n",
       "      <td>New York</td>\n",
       "      <td>NaN</td>\n",
       "      <td>619</td>\n",
       "      <td>2022-01-01</td>\n",
       "      <td>Widowed</td>\n",
       "      <td>PhD</td>\n",
       "    </tr>\n",
       "    <tr>\n",
       "      <th>101</th>\n",
       "      <td>2</td>\n",
       "      <td>45.0</td>\n",
       "      <td>30000.0</td>\n",
       "      <td>Houston</td>\n",
       "      <td>Female</td>\n",
       "      <td>1945</td>\n",
       "      <td>2022-01-02</td>\n",
       "      <td>Single</td>\n",
       "      <td>PhD</td>\n",
       "    </tr>\n",
       "    <tr>\n",
       "      <th>102</th>\n",
       "      <td>3</td>\n",
       "      <td>35.0</td>\n",
       "      <td>30000.0</td>\n",
       "      <td>New York</td>\n",
       "      <td>Male</td>\n",
       "      <td>2783</td>\n",
       "      <td>2022-01-03</td>\n",
       "      <td>NaN</td>\n",
       "      <td>Master</td>\n",
       "    </tr>\n",
       "    <tr>\n",
       "      <th>103</th>\n",
       "      <td>4</td>\n",
       "      <td>45.0</td>\n",
       "      <td>30000.0</td>\n",
       "      <td>NaN</td>\n",
       "      <td>Other</td>\n",
       "      <td>3913</td>\n",
       "      <td>2022-01-04</td>\n",
       "      <td>Married</td>\n",
       "      <td>Bachelor</td>\n",
       "    </tr>\n",
       "    <tr>\n",
       "      <th>104</th>\n",
       "      <td>5</td>\n",
       "      <td>45.0</td>\n",
       "      <td>30000.0</td>\n",
       "      <td>New York</td>\n",
       "      <td>Male</td>\n",
       "      <td>4771</td>\n",
       "      <td>2022-01-05</td>\n",
       "      <td>Married</td>\n",
       "      <td>NaN</td>\n",
       "    </tr>\n",
       "  </tbody>\n",
       "</table>\n",
       "<p>105 rows × 9 columns</p>\n",
       "</div>"
      ],
      "text/plain": [
       "     Customer_ID   Age   Salary      City  Gender  Purchase_Amount  \\\n",
       "0              1  40.0  70000.0  New York     NaN              619   \n",
       "1              2  45.0  30000.0   Houston  Female             1945   \n",
       "2              3  35.0  30000.0  New York    Male             2783   \n",
       "3              4  45.0  30000.0       NaN   Other             3913   \n",
       "4              5  45.0  30000.0  New York    Male             4771   \n",
       "..           ...   ...      ...       ...     ...              ...   \n",
       "100            1  40.0  70000.0  New York     NaN              619   \n",
       "101            2  45.0  30000.0   Houston  Female             1945   \n",
       "102            3  35.0  30000.0  New York    Male             2783   \n",
       "103            4  45.0  30000.0       NaN   Other             3913   \n",
       "104            5  45.0  30000.0  New York    Male             4771   \n",
       "\n",
       "    Signup_Date Marital_Status Education  \n",
       "0    2022-01-01        Widowed       PhD  \n",
       "1    2022-01-02         Single       PhD  \n",
       "2    2022-01-03            NaN    Master  \n",
       "3    2022-01-04        Married  Bachelor  \n",
       "4    2022-01-05        Married       NaN  \n",
       "..          ...            ...       ...  \n",
       "100  2022-01-01        Widowed       PhD  \n",
       "101  2022-01-02         Single       PhD  \n",
       "102  2022-01-03            NaN    Master  \n",
       "103  2022-01-04        Married  Bachelor  \n",
       "104  2022-01-05        Married       NaN  \n",
       "\n",
       "[105 rows x 9 columns]"
      ]
     },
     "execution_count": 20,
     "metadata": {},
     "output_type": "execute_result"
    }
   ],
   "source": [
    "data"
   ]
  },
  {
   "cell_type": "markdown",
   "metadata": {},
   "source": [
    "#### Handling Categorical Missing Values Using the (Multivariate Iterative Chain Equations) MICE Technique"
   ]
  },
  {
   "cell_type": "code",
   "execution_count": 21,
   "metadata": {},
   "outputs": [
    {
     "data": {
      "text/plain": [
       "Index(['Customer_ID', 'Age', 'Salary', 'City', 'Gender', 'Purchase_Amount',\n",
       "       'Signup_Date', 'Marital_Status', 'Education'],\n",
       "      dtype='object')"
      ]
     },
     "execution_count": 21,
     "metadata": {},
     "output_type": "execute_result"
    }
   ],
   "source": [
    "data.columns"
   ]
  },
  {
   "cell_type": "markdown",
   "metadata": {},
   "source": [
    "##### 1. Encoding the Categorical Data First"
   ]
  },
  {
   "cell_type": "code",
   "execution_count": 22,
   "metadata": {},
   "outputs": [],
   "source": [
    "data_encoder = LabelEncoder()\n",
    "\n",
    "data['City_Encoded'] = data_encoder.fit_transform(data['City'])\n",
    "data['Gender_Encoded'] = data_encoder.fit_transform(data['Gender'])\n",
    "data['Marital_St_Encoded'] = data_encoder.fit_transform(data['Marital_Status'])\n",
    "data['Edu_Encoded'] = data_encoder.fit_transform(data['Education'])"
   ]
  },
  {
   "cell_type": "code",
   "execution_count": 23,
   "metadata": {},
   "outputs": [
    {
     "data": {
      "text/html": [
       "<div>\n",
       "<style scoped>\n",
       "    .dataframe tbody tr th:only-of-type {\n",
       "        vertical-align: middle;\n",
       "    }\n",
       "\n",
       "    .dataframe tbody tr th {\n",
       "        vertical-align: top;\n",
       "    }\n",
       "\n",
       "    .dataframe thead th {\n",
       "        text-align: right;\n",
       "    }\n",
       "</style>\n",
       "<table border=\"1\" class=\"dataframe\">\n",
       "  <thead>\n",
       "    <tr style=\"text-align: right;\">\n",
       "      <th></th>\n",
       "      <th>Customer_ID</th>\n",
       "      <th>Age</th>\n",
       "      <th>Salary</th>\n",
       "      <th>City</th>\n",
       "      <th>Gender</th>\n",
       "      <th>Purchase_Amount</th>\n",
       "      <th>Signup_Date</th>\n",
       "      <th>Marital_Status</th>\n",
       "      <th>Education</th>\n",
       "      <th>City_Encoded</th>\n",
       "      <th>Gender_Encoded</th>\n",
       "      <th>Marital_St_Encoded</th>\n",
       "      <th>Edu_Encoded</th>\n",
       "    </tr>\n",
       "  </thead>\n",
       "  <tbody>\n",
       "    <tr>\n",
       "      <th>0</th>\n",
       "      <td>1</td>\n",
       "      <td>40.0</td>\n",
       "      <td>70000.0</td>\n",
       "      <td>New York</td>\n",
       "      <td>NaN</td>\n",
       "      <td>619</td>\n",
       "      <td>2022-01-01</td>\n",
       "      <td>Widowed</td>\n",
       "      <td>PhD</td>\n",
       "      <td>3</td>\n",
       "      <td>4</td>\n",
       "      <td>3</td>\n",
       "      <td>3</td>\n",
       "    </tr>\n",
       "    <tr>\n",
       "      <th>1</th>\n",
       "      <td>2</td>\n",
       "      <td>45.0</td>\n",
       "      <td>30000.0</td>\n",
       "      <td>Houston</td>\n",
       "      <td>Female</td>\n",
       "      <td>1945</td>\n",
       "      <td>2022-01-02</td>\n",
       "      <td>Single</td>\n",
       "      <td>PhD</td>\n",
       "      <td>1</td>\n",
       "      <td>0</td>\n",
       "      <td>2</td>\n",
       "      <td>3</td>\n",
       "    </tr>\n",
       "    <tr>\n",
       "      <th>2</th>\n",
       "      <td>3</td>\n",
       "      <td>35.0</td>\n",
       "      <td>30000.0</td>\n",
       "      <td>New York</td>\n",
       "      <td>Male</td>\n",
       "      <td>2783</td>\n",
       "      <td>2022-01-03</td>\n",
       "      <td>NaN</td>\n",
       "      <td>Master</td>\n",
       "      <td>3</td>\n",
       "      <td>1</td>\n",
       "      <td>4</td>\n",
       "      <td>2</td>\n",
       "    </tr>\n",
       "    <tr>\n",
       "      <th>3</th>\n",
       "      <td>4</td>\n",
       "      <td>45.0</td>\n",
       "      <td>30000.0</td>\n",
       "      <td>NaN</td>\n",
       "      <td>Other</td>\n",
       "      <td>3913</td>\n",
       "      <td>2022-01-04</td>\n",
       "      <td>Married</td>\n",
       "      <td>Bachelor</td>\n",
       "      <td>6</td>\n",
       "      <td>2</td>\n",
       "      <td>1</td>\n",
       "      <td>0</td>\n",
       "    </tr>\n",
       "    <tr>\n",
       "      <th>4</th>\n",
       "      <td>5</td>\n",
       "      <td>45.0</td>\n",
       "      <td>30000.0</td>\n",
       "      <td>New York</td>\n",
       "      <td>Male</td>\n",
       "      <td>4771</td>\n",
       "      <td>2022-01-05</td>\n",
       "      <td>Married</td>\n",
       "      <td>NaN</td>\n",
       "      <td>3</td>\n",
       "      <td>1</td>\n",
       "      <td>1</td>\n",
       "      <td>5</td>\n",
       "    </tr>\n",
       "  </tbody>\n",
       "</table>\n",
       "</div>"
      ],
      "text/plain": [
       "   Customer_ID   Age   Salary      City  Gender  Purchase_Amount Signup_Date  \\\n",
       "0            1  40.0  70000.0  New York     NaN              619  2022-01-01   \n",
       "1            2  45.0  30000.0   Houston  Female             1945  2022-01-02   \n",
       "2            3  35.0  30000.0  New York    Male             2783  2022-01-03   \n",
       "3            4  45.0  30000.0       NaN   Other             3913  2022-01-04   \n",
       "4            5  45.0  30000.0  New York    Male             4771  2022-01-05   \n",
       "\n",
       "  Marital_Status Education  City_Encoded  Gender_Encoded  Marital_St_Encoded  \\\n",
       "0        Widowed       PhD             3               4                   3   \n",
       "1         Single       PhD             1               0                   2   \n",
       "2            NaN    Master             3               1                   4   \n",
       "3        Married  Bachelor             6               2                   1   \n",
       "4        Married       NaN             3               1                   1   \n",
       "\n",
       "   Edu_Encoded  \n",
       "0            3  \n",
       "1            3  \n",
       "2            2  \n",
       "3            0  \n",
       "4            5  "
      ]
     },
     "execution_count": 23,
     "metadata": {},
     "output_type": "execute_result"
    }
   ],
   "source": [
    "data.head()"
   ]
  },
  {
   "cell_type": "code",
   "execution_count": 24,
   "metadata": {},
   "outputs": [
    {
     "data": {
      "text/html": [
       "<div>\n",
       "<style scoped>\n",
       "    .dataframe tbody tr th:only-of-type {\n",
       "        vertical-align: middle;\n",
       "    }\n",
       "\n",
       "    .dataframe tbody tr th {\n",
       "        vertical-align: top;\n",
       "    }\n",
       "\n",
       "    .dataframe thead th {\n",
       "        text-align: right;\n",
       "    }\n",
       "</style>\n",
       "<table border=\"1\" class=\"dataframe\">\n",
       "  <thead>\n",
       "    <tr style=\"text-align: right;\">\n",
       "      <th></th>\n",
       "      <th>Customer_ID</th>\n",
       "      <th>Age</th>\n",
       "      <th>Salary</th>\n",
       "      <th>Purchase_Amount</th>\n",
       "      <th>City_Encoded</th>\n",
       "      <th>Gender_Encoded</th>\n",
       "      <th>Marital_St_Encoded</th>\n",
       "      <th>Edu_Encoded</th>\n",
       "    </tr>\n",
       "  </thead>\n",
       "  <tbody>\n",
       "    <tr>\n",
       "      <th>0</th>\n",
       "      <td>1</td>\n",
       "      <td>40.0</td>\n",
       "      <td>70000.0</td>\n",
       "      <td>619</td>\n",
       "      <td>3</td>\n",
       "      <td>4</td>\n",
       "      <td>3</td>\n",
       "      <td>3</td>\n",
       "    </tr>\n",
       "    <tr>\n",
       "      <th>1</th>\n",
       "      <td>2</td>\n",
       "      <td>45.0</td>\n",
       "      <td>30000.0</td>\n",
       "      <td>1945</td>\n",
       "      <td>1</td>\n",
       "      <td>0</td>\n",
       "      <td>2</td>\n",
       "      <td>3</td>\n",
       "    </tr>\n",
       "    <tr>\n",
       "      <th>2</th>\n",
       "      <td>3</td>\n",
       "      <td>35.0</td>\n",
       "      <td>30000.0</td>\n",
       "      <td>2783</td>\n",
       "      <td>3</td>\n",
       "      <td>1</td>\n",
       "      <td>4</td>\n",
       "      <td>2</td>\n",
       "    </tr>\n",
       "    <tr>\n",
       "      <th>3</th>\n",
       "      <td>4</td>\n",
       "      <td>45.0</td>\n",
       "      <td>30000.0</td>\n",
       "      <td>3913</td>\n",
       "      <td>6</td>\n",
       "      <td>2</td>\n",
       "      <td>1</td>\n",
       "      <td>0</td>\n",
       "    </tr>\n",
       "    <tr>\n",
       "      <th>4</th>\n",
       "      <td>5</td>\n",
       "      <td>45.0</td>\n",
       "      <td>30000.0</td>\n",
       "      <td>4771</td>\n",
       "      <td>3</td>\n",
       "      <td>1</td>\n",
       "      <td>1</td>\n",
       "      <td>5</td>\n",
       "    </tr>\n",
       "  </tbody>\n",
       "</table>\n",
       "</div>"
      ],
      "text/plain": [
       "   Customer_ID   Age   Salary  Purchase_Amount  City_Encoded  Gender_Encoded  \\\n",
       "0            1  40.0  70000.0              619             3               4   \n",
       "1            2  45.0  30000.0             1945             1               0   \n",
       "2            3  35.0  30000.0             2783             3               1   \n",
       "3            4  45.0  30000.0             3913             6               2   \n",
       "4            5  45.0  30000.0             4771             3               1   \n",
       "\n",
       "   Marital_St_Encoded  Edu_Encoded  \n",
       "0                   3            3  \n",
       "1                   2            3  \n",
       "2                   4            2  \n",
       "3                   1            0  \n",
       "4                   1            5  "
      ]
     },
     "execution_count": 24,
     "metadata": {},
     "output_type": "execute_result"
    }
   ],
   "source": [
    "data_train = data.drop(columns= ['City', 'Gender', 'Signup_Date', 'Marital_Status', 'Education'], axis=1).copy(deep=True)\n",
    "data_train.head()"
   ]
  },
  {
   "cell_type": "markdown",
   "metadata": {},
   "source": [
    "##### Imptuting The Data"
   ]
  },
  {
   "cell_type": "code",
   "execution_count": 25,
   "metadata": {},
   "outputs": [],
   "source": [
    "imputer = IterativeImputer(random_state=100)"
   ]
  },
  {
   "cell_type": "code",
   "execution_count": 26,
   "metadata": {},
   "outputs": [
    {
     "data": {
      "text/html": [
       "<style>#sk-container-id-1 {\n",
       "  /* Definition of color scheme common for light and dark mode */\n",
       "  --sklearn-color-text: #000;\n",
       "  --sklearn-color-text-muted: #666;\n",
       "  --sklearn-color-line: gray;\n",
       "  /* Definition of color scheme for unfitted estimators */\n",
       "  --sklearn-color-unfitted-level-0: #fff5e6;\n",
       "  --sklearn-color-unfitted-level-1: #f6e4d2;\n",
       "  --sklearn-color-unfitted-level-2: #ffe0b3;\n",
       "  --sklearn-color-unfitted-level-3: chocolate;\n",
       "  /* Definition of color scheme for fitted estimators */\n",
       "  --sklearn-color-fitted-level-0: #f0f8ff;\n",
       "  --sklearn-color-fitted-level-1: #d4ebff;\n",
       "  --sklearn-color-fitted-level-2: #b3dbfd;\n",
       "  --sklearn-color-fitted-level-3: cornflowerblue;\n",
       "\n",
       "  /* Specific color for light theme */\n",
       "  --sklearn-color-text-on-default-background: var(--sg-text-color, var(--theme-code-foreground, var(--jp-content-font-color1, black)));\n",
       "  --sklearn-color-background: var(--sg-background-color, var(--theme-background, var(--jp-layout-color0, white)));\n",
       "  --sklearn-color-border-box: var(--sg-text-color, var(--theme-code-foreground, var(--jp-content-font-color1, black)));\n",
       "  --sklearn-color-icon: #696969;\n",
       "\n",
       "  @media (prefers-color-scheme: dark) {\n",
       "    /* Redefinition of color scheme for dark theme */\n",
       "    --sklearn-color-text-on-default-background: var(--sg-text-color, var(--theme-code-foreground, var(--jp-content-font-color1, white)));\n",
       "    --sklearn-color-background: var(--sg-background-color, var(--theme-background, var(--jp-layout-color0, #111)));\n",
       "    --sklearn-color-border-box: var(--sg-text-color, var(--theme-code-foreground, var(--jp-content-font-color1, white)));\n",
       "    --sklearn-color-icon: #878787;\n",
       "  }\n",
       "}\n",
       "\n",
       "#sk-container-id-1 {\n",
       "  color: var(--sklearn-color-text);\n",
       "}\n",
       "\n",
       "#sk-container-id-1 pre {\n",
       "  padding: 0;\n",
       "}\n",
       "\n",
       "#sk-container-id-1 input.sk-hidden--visually {\n",
       "  border: 0;\n",
       "  clip: rect(1px 1px 1px 1px);\n",
       "  clip: rect(1px, 1px, 1px, 1px);\n",
       "  height: 1px;\n",
       "  margin: -1px;\n",
       "  overflow: hidden;\n",
       "  padding: 0;\n",
       "  position: absolute;\n",
       "  width: 1px;\n",
       "}\n",
       "\n",
       "#sk-container-id-1 div.sk-dashed-wrapped {\n",
       "  border: 1px dashed var(--sklearn-color-line);\n",
       "  margin: 0 0.4em 0.5em 0.4em;\n",
       "  box-sizing: border-box;\n",
       "  padding-bottom: 0.4em;\n",
       "  background-color: var(--sklearn-color-background);\n",
       "}\n",
       "\n",
       "#sk-container-id-1 div.sk-container {\n",
       "  /* jupyter's `normalize.less` sets `[hidden] { display: none; }`\n",
       "     but bootstrap.min.css set `[hidden] { display: none !important; }`\n",
       "     so we also need the `!important` here to be able to override the\n",
       "     default hidden behavior on the sphinx rendered scikit-learn.org.\n",
       "     See: https://github.com/scikit-learn/scikit-learn/issues/21755 */\n",
       "  display: inline-block !important;\n",
       "  position: relative;\n",
       "}\n",
       "\n",
       "#sk-container-id-1 div.sk-text-repr-fallback {\n",
       "  display: none;\n",
       "}\n",
       "\n",
       "div.sk-parallel-item,\n",
       "div.sk-serial,\n",
       "div.sk-item {\n",
       "  /* draw centered vertical line to link estimators */\n",
       "  background-image: linear-gradient(var(--sklearn-color-text-on-default-background), var(--sklearn-color-text-on-default-background));\n",
       "  background-size: 2px 100%;\n",
       "  background-repeat: no-repeat;\n",
       "  background-position: center center;\n",
       "}\n",
       "\n",
       "/* Parallel-specific style estimator block */\n",
       "\n",
       "#sk-container-id-1 div.sk-parallel-item::after {\n",
       "  content: \"\";\n",
       "  width: 100%;\n",
       "  border-bottom: 2px solid var(--sklearn-color-text-on-default-background);\n",
       "  flex-grow: 1;\n",
       "}\n",
       "\n",
       "#sk-container-id-1 div.sk-parallel {\n",
       "  display: flex;\n",
       "  align-items: stretch;\n",
       "  justify-content: center;\n",
       "  background-color: var(--sklearn-color-background);\n",
       "  position: relative;\n",
       "}\n",
       "\n",
       "#sk-container-id-1 div.sk-parallel-item {\n",
       "  display: flex;\n",
       "  flex-direction: column;\n",
       "}\n",
       "\n",
       "#sk-container-id-1 div.sk-parallel-item:first-child::after {\n",
       "  align-self: flex-end;\n",
       "  width: 50%;\n",
       "}\n",
       "\n",
       "#sk-container-id-1 div.sk-parallel-item:last-child::after {\n",
       "  align-self: flex-start;\n",
       "  width: 50%;\n",
       "}\n",
       "\n",
       "#sk-container-id-1 div.sk-parallel-item:only-child::after {\n",
       "  width: 0;\n",
       "}\n",
       "\n",
       "/* Serial-specific style estimator block */\n",
       "\n",
       "#sk-container-id-1 div.sk-serial {\n",
       "  display: flex;\n",
       "  flex-direction: column;\n",
       "  align-items: center;\n",
       "  background-color: var(--sklearn-color-background);\n",
       "  padding-right: 1em;\n",
       "  padding-left: 1em;\n",
       "}\n",
       "\n",
       "\n",
       "/* Toggleable style: style used for estimator/Pipeline/ColumnTransformer box that is\n",
       "clickable and can be expanded/collapsed.\n",
       "- Pipeline and ColumnTransformer use this feature and define the default style\n",
       "- Estimators will overwrite some part of the style using the `sk-estimator` class\n",
       "*/\n",
       "\n",
       "/* Pipeline and ColumnTransformer style (default) */\n",
       "\n",
       "#sk-container-id-1 div.sk-toggleable {\n",
       "  /* Default theme specific background. It is overwritten whether we have a\n",
       "  specific estimator or a Pipeline/ColumnTransformer */\n",
       "  background-color: var(--sklearn-color-background);\n",
       "}\n",
       "\n",
       "/* Toggleable label */\n",
       "#sk-container-id-1 label.sk-toggleable__label {\n",
       "  cursor: pointer;\n",
       "  display: flex;\n",
       "  width: 100%;\n",
       "  margin-bottom: 0;\n",
       "  padding: 0.5em;\n",
       "  box-sizing: border-box;\n",
       "  text-align: center;\n",
       "  align-items: start;\n",
       "  justify-content: space-between;\n",
       "  gap: 0.5em;\n",
       "}\n",
       "\n",
       "#sk-container-id-1 label.sk-toggleable__label .caption {\n",
       "  font-size: 0.6rem;\n",
       "  font-weight: lighter;\n",
       "  color: var(--sklearn-color-text-muted);\n",
       "}\n",
       "\n",
       "#sk-container-id-1 label.sk-toggleable__label-arrow:before {\n",
       "  /* Arrow on the left of the label */\n",
       "  content: \"▸\";\n",
       "  float: left;\n",
       "  margin-right: 0.25em;\n",
       "  color: var(--sklearn-color-icon);\n",
       "}\n",
       "\n",
       "#sk-container-id-1 label.sk-toggleable__label-arrow:hover:before {\n",
       "  color: var(--sklearn-color-text);\n",
       "}\n",
       "\n",
       "/* Toggleable content - dropdown */\n",
       "\n",
       "#sk-container-id-1 div.sk-toggleable__content {\n",
       "  max-height: 0;\n",
       "  max-width: 0;\n",
       "  overflow: hidden;\n",
       "  text-align: left;\n",
       "  /* unfitted */\n",
       "  background-color: var(--sklearn-color-unfitted-level-0);\n",
       "}\n",
       "\n",
       "#sk-container-id-1 div.sk-toggleable__content.fitted {\n",
       "  /* fitted */\n",
       "  background-color: var(--sklearn-color-fitted-level-0);\n",
       "}\n",
       "\n",
       "#sk-container-id-1 div.sk-toggleable__content pre {\n",
       "  margin: 0.2em;\n",
       "  border-radius: 0.25em;\n",
       "  color: var(--sklearn-color-text);\n",
       "  /* unfitted */\n",
       "  background-color: var(--sklearn-color-unfitted-level-0);\n",
       "}\n",
       "\n",
       "#sk-container-id-1 div.sk-toggleable__content.fitted pre {\n",
       "  /* unfitted */\n",
       "  background-color: var(--sklearn-color-fitted-level-0);\n",
       "}\n",
       "\n",
       "#sk-container-id-1 input.sk-toggleable__control:checked~div.sk-toggleable__content {\n",
       "  /* Expand drop-down */\n",
       "  max-height: 200px;\n",
       "  max-width: 100%;\n",
       "  overflow: auto;\n",
       "}\n",
       "\n",
       "#sk-container-id-1 input.sk-toggleable__control:checked~label.sk-toggleable__label-arrow:before {\n",
       "  content: \"▾\";\n",
       "}\n",
       "\n",
       "/* Pipeline/ColumnTransformer-specific style */\n",
       "\n",
       "#sk-container-id-1 div.sk-label input.sk-toggleable__control:checked~label.sk-toggleable__label {\n",
       "  color: var(--sklearn-color-text);\n",
       "  background-color: var(--sklearn-color-unfitted-level-2);\n",
       "}\n",
       "\n",
       "#sk-container-id-1 div.sk-label.fitted input.sk-toggleable__control:checked~label.sk-toggleable__label {\n",
       "  background-color: var(--sklearn-color-fitted-level-2);\n",
       "}\n",
       "\n",
       "/* Estimator-specific style */\n",
       "\n",
       "/* Colorize estimator box */\n",
       "#sk-container-id-1 div.sk-estimator input.sk-toggleable__control:checked~label.sk-toggleable__label {\n",
       "  /* unfitted */\n",
       "  background-color: var(--sklearn-color-unfitted-level-2);\n",
       "}\n",
       "\n",
       "#sk-container-id-1 div.sk-estimator.fitted input.sk-toggleable__control:checked~label.sk-toggleable__label {\n",
       "  /* fitted */\n",
       "  background-color: var(--sklearn-color-fitted-level-2);\n",
       "}\n",
       "\n",
       "#sk-container-id-1 div.sk-label label.sk-toggleable__label,\n",
       "#sk-container-id-1 div.sk-label label {\n",
       "  /* The background is the default theme color */\n",
       "  color: var(--sklearn-color-text-on-default-background);\n",
       "}\n",
       "\n",
       "/* On hover, darken the color of the background */\n",
       "#sk-container-id-1 div.sk-label:hover label.sk-toggleable__label {\n",
       "  color: var(--sklearn-color-text);\n",
       "  background-color: var(--sklearn-color-unfitted-level-2);\n",
       "}\n",
       "\n",
       "/* Label box, darken color on hover, fitted */\n",
       "#sk-container-id-1 div.sk-label.fitted:hover label.sk-toggleable__label.fitted {\n",
       "  color: var(--sklearn-color-text);\n",
       "  background-color: var(--sklearn-color-fitted-level-2);\n",
       "}\n",
       "\n",
       "/* Estimator label */\n",
       "\n",
       "#sk-container-id-1 div.sk-label label {\n",
       "  font-family: monospace;\n",
       "  font-weight: bold;\n",
       "  display: inline-block;\n",
       "  line-height: 1.2em;\n",
       "}\n",
       "\n",
       "#sk-container-id-1 div.sk-label-container {\n",
       "  text-align: center;\n",
       "}\n",
       "\n",
       "/* Estimator-specific */\n",
       "#sk-container-id-1 div.sk-estimator {\n",
       "  font-family: monospace;\n",
       "  border: 1px dotted var(--sklearn-color-border-box);\n",
       "  border-radius: 0.25em;\n",
       "  box-sizing: border-box;\n",
       "  margin-bottom: 0.5em;\n",
       "  /* unfitted */\n",
       "  background-color: var(--sklearn-color-unfitted-level-0);\n",
       "}\n",
       "\n",
       "#sk-container-id-1 div.sk-estimator.fitted {\n",
       "  /* fitted */\n",
       "  background-color: var(--sklearn-color-fitted-level-0);\n",
       "}\n",
       "\n",
       "/* on hover */\n",
       "#sk-container-id-1 div.sk-estimator:hover {\n",
       "  /* unfitted */\n",
       "  background-color: var(--sklearn-color-unfitted-level-2);\n",
       "}\n",
       "\n",
       "#sk-container-id-1 div.sk-estimator.fitted:hover {\n",
       "  /* fitted */\n",
       "  background-color: var(--sklearn-color-fitted-level-2);\n",
       "}\n",
       "\n",
       "/* Specification for estimator info (e.g. \"i\" and \"?\") */\n",
       "\n",
       "/* Common style for \"i\" and \"?\" */\n",
       "\n",
       ".sk-estimator-doc-link,\n",
       "a:link.sk-estimator-doc-link,\n",
       "a:visited.sk-estimator-doc-link {\n",
       "  float: right;\n",
       "  font-size: smaller;\n",
       "  line-height: 1em;\n",
       "  font-family: monospace;\n",
       "  background-color: var(--sklearn-color-background);\n",
       "  border-radius: 1em;\n",
       "  height: 1em;\n",
       "  width: 1em;\n",
       "  text-decoration: none !important;\n",
       "  margin-left: 0.5em;\n",
       "  text-align: center;\n",
       "  /* unfitted */\n",
       "  border: var(--sklearn-color-unfitted-level-1) 1pt solid;\n",
       "  color: var(--sklearn-color-unfitted-level-1);\n",
       "}\n",
       "\n",
       ".sk-estimator-doc-link.fitted,\n",
       "a:link.sk-estimator-doc-link.fitted,\n",
       "a:visited.sk-estimator-doc-link.fitted {\n",
       "  /* fitted */\n",
       "  border: var(--sklearn-color-fitted-level-1) 1pt solid;\n",
       "  color: var(--sklearn-color-fitted-level-1);\n",
       "}\n",
       "\n",
       "/* On hover */\n",
       "div.sk-estimator:hover .sk-estimator-doc-link:hover,\n",
       ".sk-estimator-doc-link:hover,\n",
       "div.sk-label-container:hover .sk-estimator-doc-link:hover,\n",
       ".sk-estimator-doc-link:hover {\n",
       "  /* unfitted */\n",
       "  background-color: var(--sklearn-color-unfitted-level-3);\n",
       "  color: var(--sklearn-color-background);\n",
       "  text-decoration: none;\n",
       "}\n",
       "\n",
       "div.sk-estimator.fitted:hover .sk-estimator-doc-link.fitted:hover,\n",
       ".sk-estimator-doc-link.fitted:hover,\n",
       "div.sk-label-container:hover .sk-estimator-doc-link.fitted:hover,\n",
       ".sk-estimator-doc-link.fitted:hover {\n",
       "  /* fitted */\n",
       "  background-color: var(--sklearn-color-fitted-level-3);\n",
       "  color: var(--sklearn-color-background);\n",
       "  text-decoration: none;\n",
       "}\n",
       "\n",
       "/* Span, style for the box shown on hovering the info icon */\n",
       ".sk-estimator-doc-link span {\n",
       "  display: none;\n",
       "  z-index: 9999;\n",
       "  position: relative;\n",
       "  font-weight: normal;\n",
       "  right: .2ex;\n",
       "  padding: .5ex;\n",
       "  margin: .5ex;\n",
       "  width: min-content;\n",
       "  min-width: 20ex;\n",
       "  max-width: 50ex;\n",
       "  color: var(--sklearn-color-text);\n",
       "  box-shadow: 2pt 2pt 4pt #999;\n",
       "  /* unfitted */\n",
       "  background: var(--sklearn-color-unfitted-level-0);\n",
       "  border: .5pt solid var(--sklearn-color-unfitted-level-3);\n",
       "}\n",
       "\n",
       ".sk-estimator-doc-link.fitted span {\n",
       "  /* fitted */\n",
       "  background: var(--sklearn-color-fitted-level-0);\n",
       "  border: var(--sklearn-color-fitted-level-3);\n",
       "}\n",
       "\n",
       ".sk-estimator-doc-link:hover span {\n",
       "  display: block;\n",
       "}\n",
       "\n",
       "/* \"?\"-specific style due to the `<a>` HTML tag */\n",
       "\n",
       "#sk-container-id-1 a.estimator_doc_link {\n",
       "  float: right;\n",
       "  font-size: 1rem;\n",
       "  line-height: 1em;\n",
       "  font-family: monospace;\n",
       "  background-color: var(--sklearn-color-background);\n",
       "  border-radius: 1rem;\n",
       "  height: 1rem;\n",
       "  width: 1rem;\n",
       "  text-decoration: none;\n",
       "  /* unfitted */\n",
       "  color: var(--sklearn-color-unfitted-level-1);\n",
       "  border: var(--sklearn-color-unfitted-level-1) 1pt solid;\n",
       "}\n",
       "\n",
       "#sk-container-id-1 a.estimator_doc_link.fitted {\n",
       "  /* fitted */\n",
       "  border: var(--sklearn-color-fitted-level-1) 1pt solid;\n",
       "  color: var(--sklearn-color-fitted-level-1);\n",
       "}\n",
       "\n",
       "/* On hover */\n",
       "#sk-container-id-1 a.estimator_doc_link:hover {\n",
       "  /* unfitted */\n",
       "  background-color: var(--sklearn-color-unfitted-level-3);\n",
       "  color: var(--sklearn-color-background);\n",
       "  text-decoration: none;\n",
       "}\n",
       "\n",
       "#sk-container-id-1 a.estimator_doc_link.fitted:hover {\n",
       "  /* fitted */\n",
       "  background-color: var(--sklearn-color-fitted-level-3);\n",
       "}\n",
       "</style><div id=\"sk-container-id-1\" class=\"sk-top-container\"><div class=\"sk-text-repr-fallback\"><pre>IterativeImputer(random_state=100)</pre><b>In a Jupyter environment, please rerun this cell to show the HTML representation or trust the notebook. <br />On GitHub, the HTML representation is unable to render, please try loading this page with nbviewer.org.</b></div><div class=\"sk-container\" hidden><div class=\"sk-item\"><div class=\"sk-estimator fitted sk-toggleable\"><input class=\"sk-toggleable__control sk-hidden--visually\" id=\"sk-estimator-id-1\" type=\"checkbox\" checked><label for=\"sk-estimator-id-1\" class=\"sk-toggleable__label fitted sk-toggleable__label-arrow\"><div><div>IterativeImputer</div></div><div><a class=\"sk-estimator-doc-link fitted\" rel=\"noreferrer\" target=\"_blank\" href=\"https://scikit-learn.org/1.6/modules/generated/sklearn.impute.IterativeImputer.html\">?<span>Documentation for IterativeImputer</span></a><span class=\"sk-estimator-doc-link fitted\">i<span>Fitted</span></span></div></label><div class=\"sk-toggleable__content fitted\"><pre>IterativeImputer(random_state=100)</pre></div> </div></div></div></div>"
      ],
      "text/plain": [
       "IterativeImputer(random_state=100)"
      ]
     },
     "execution_count": 26,
     "metadata": {},
     "output_type": "execute_result"
    }
   ],
   "source": [
    "imputer.fit(data_train)"
   ]
  },
  {
   "cell_type": "code",
   "execution_count": 27,
   "metadata": {},
   "outputs": [
    {
     "data": {
      "text/plain": [
       "{'Bachelor': np.int64(0),\n",
       " 'High School': np.int64(1),\n",
       " 'Master': np.int64(2),\n",
       " 'PhD': np.int64(3),\n",
       " 'bachelor': np.int64(4),\n",
       " nan: np.int64(5)}"
      ]
     },
     "execution_count": 27,
     "metadata": {},
     "output_type": "execute_result"
    }
   ],
   "source": [
    "dict(zip(data_encoder.classes_, data_encoder.transform(data_encoder.classes_)))"
   ]
  },
  {
   "cell_type": "code",
   "execution_count": 28,
   "metadata": {},
   "outputs": [
    {
     "ename": "ValueError",
     "evalue": "y contains previously unseen labels: 3",
     "output_type": "error",
     "traceback": [
      "\u001b[1;31m---------------------------------------------------------------------------\u001b[0m",
      "\u001b[1;31mKeyError\u001b[0m                                  Traceback (most recent call last)",
      "File \u001b[1;32mc:\\Users\\CAPACITI-JHB\\AppData\\Local\\Programs\\Python\\Python313\\Lib\\site-packages\\sklearn\\utils\\_encode.py:235\u001b[0m, in \u001b[0;36m_encode\u001b[1;34m(values, uniques, check_unknown)\u001b[0m\n\u001b[0;32m    234\u001b[0m \u001b[38;5;28;01mtry\u001b[39;00m:\n\u001b[1;32m--> 235\u001b[0m     \u001b[38;5;28;01mreturn\u001b[39;00m \u001b[43m_map_to_integer\u001b[49m\u001b[43m(\u001b[49m\u001b[43mvalues\u001b[49m\u001b[43m,\u001b[49m\u001b[43m \u001b[49m\u001b[43muniques\u001b[49m\u001b[43m)\u001b[49m\n\u001b[0;32m    236\u001b[0m \u001b[38;5;28;01mexcept\u001b[39;00m \u001b[38;5;167;01mKeyError\u001b[39;00m \u001b[38;5;28;01mas\u001b[39;00m e:\n",
      "File \u001b[1;32mc:\\Users\\CAPACITI-JHB\\AppData\\Local\\Programs\\Python\\Python313\\Lib\\site-packages\\sklearn\\utils\\_encode.py:174\u001b[0m, in \u001b[0;36m_map_to_integer\u001b[1;34m(values, uniques)\u001b[0m\n\u001b[0;32m    173\u001b[0m table \u001b[38;5;241m=\u001b[39m _nandict({val: i \u001b[38;5;28;01mfor\u001b[39;00m i, val \u001b[38;5;129;01min\u001b[39;00m \u001b[38;5;28menumerate\u001b[39m(uniques)})\n\u001b[1;32m--> 174\u001b[0m \u001b[38;5;28;01mreturn\u001b[39;00m xp\u001b[38;5;241m.\u001b[39masarray([\u001b[43mtable\u001b[49m\u001b[43m[\u001b[49m\u001b[43mv\u001b[49m\u001b[43m]\u001b[49m \u001b[38;5;28;01mfor\u001b[39;00m v \u001b[38;5;129;01min\u001b[39;00m values], device\u001b[38;5;241m=\u001b[39mdevice(values))\n",
      "File \u001b[1;32mc:\\Users\\CAPACITI-JHB\\AppData\\Local\\Programs\\Python\\Python313\\Lib\\site-packages\\sklearn\\utils\\_encode.py:167\u001b[0m, in \u001b[0;36m_nandict.__missing__\u001b[1;34m(self, key)\u001b[0m\n\u001b[0;32m    166\u001b[0m     \u001b[38;5;28;01mreturn\u001b[39;00m \u001b[38;5;28mself\u001b[39m\u001b[38;5;241m.\u001b[39mnan_value\n\u001b[1;32m--> 167\u001b[0m \u001b[38;5;28;01mraise\u001b[39;00m \u001b[38;5;167;01mKeyError\u001b[39;00m(key)\n",
      "\u001b[1;31mKeyError\u001b[0m: 3",
      "\nDuring handling of the above exception, another exception occurred:\n",
      "\u001b[1;31mValueError\u001b[0m                                Traceback (most recent call last)",
      "Cell \u001b[1;32mIn[28], line 1\u001b[0m\n\u001b[1;32m----> 1\u001b[0m data_train[\u001b[38;5;124m'\u001b[39m\u001b[38;5;124mEdu_Encoded\u001b[39m\u001b[38;5;124m'\u001b[39m] \u001b[38;5;241m=\u001b[39m \u001b[43mdata_encoder\u001b[49m\u001b[38;5;241;43m.\u001b[39;49m\u001b[43mtransform\u001b[49m\u001b[43m(\u001b[49m\u001b[43mdata_train\u001b[49m\u001b[43m[\u001b[49m\u001b[38;5;124;43m'\u001b[39;49m\u001b[38;5;124;43mEdu_Encoded\u001b[39;49m\u001b[38;5;124;43m'\u001b[39;49m\u001b[43m]\u001b[49m\u001b[43m)\u001b[49m\n\u001b[0;32m      2\u001b[0m data_train\u001b[38;5;241m.\u001b[39mhead()\n",
      "File \u001b[1;32mc:\\Users\\CAPACITI-JHB\\AppData\\Local\\Programs\\Python\\Python313\\Lib\\site-packages\\sklearn\\preprocessing\\_label.py:134\u001b[0m, in \u001b[0;36mLabelEncoder.transform\u001b[1;34m(self, y)\u001b[0m\n\u001b[0;32m    131\u001b[0m \u001b[38;5;28;01mif\u001b[39;00m _num_samples(y) \u001b[38;5;241m==\u001b[39m \u001b[38;5;241m0\u001b[39m:\n\u001b[0;32m    132\u001b[0m     \u001b[38;5;28;01mreturn\u001b[39;00m xp\u001b[38;5;241m.\u001b[39masarray([])\n\u001b[1;32m--> 134\u001b[0m \u001b[38;5;28;01mreturn\u001b[39;00m \u001b[43m_encode\u001b[49m\u001b[43m(\u001b[49m\u001b[43my\u001b[49m\u001b[43m,\u001b[49m\u001b[43m \u001b[49m\u001b[43muniques\u001b[49m\u001b[38;5;241;43m=\u001b[39;49m\u001b[38;5;28;43mself\u001b[39;49m\u001b[38;5;241;43m.\u001b[39;49m\u001b[43mclasses_\u001b[49m\u001b[43m)\u001b[49m\n",
      "File \u001b[1;32mc:\\Users\\CAPACITI-JHB\\AppData\\Local\\Programs\\Python\\Python313\\Lib\\site-packages\\sklearn\\utils\\_encode.py:237\u001b[0m, in \u001b[0;36m_encode\u001b[1;34m(values, uniques, check_unknown)\u001b[0m\n\u001b[0;32m    235\u001b[0m         \u001b[38;5;28;01mreturn\u001b[39;00m _map_to_integer(values, uniques)\n\u001b[0;32m    236\u001b[0m     \u001b[38;5;28;01mexcept\u001b[39;00m \u001b[38;5;167;01mKeyError\u001b[39;00m \u001b[38;5;28;01mas\u001b[39;00m e:\n\u001b[1;32m--> 237\u001b[0m         \u001b[38;5;28;01mraise\u001b[39;00m \u001b[38;5;167;01mValueError\u001b[39;00m(\u001b[38;5;124mf\u001b[39m\u001b[38;5;124m\"\u001b[39m\u001b[38;5;124my contains previously unseen labels: \u001b[39m\u001b[38;5;132;01m{\u001b[39;00m\u001b[38;5;28mstr\u001b[39m(e)\u001b[38;5;132;01m}\u001b[39;00m\u001b[38;5;124m\"\u001b[39m)\n\u001b[0;32m    238\u001b[0m \u001b[38;5;28;01melse\u001b[39;00m:\n\u001b[0;32m    239\u001b[0m     \u001b[38;5;28;01mif\u001b[39;00m check_unknown:\n",
      "\u001b[1;31mValueError\u001b[0m: y contains previously unseen labels: 3"
     ]
    }
   ],
   "source": [
    "data_train['Edu_Encoded'] = data_encoder.transform(data_train['Edu_Encoded'])\n",
    "data_train.head()"
   ]
  },
  {
   "cell_type": "code",
   "execution_count": null,
   "metadata": {},
   "outputs": [
    {
     "data": {
      "text/plain": [
       "array([[      1,      40,   70000,     619,       3,       4,       3,\n",
       "              3],\n",
       "       [      2,      45,   30000,    1945,       1,       0,       2,\n",
       "              3],\n",
       "       [      3,      35,   30000,    2783,       3,       1,       4,\n",
       "              2],\n",
       "       [      4,      45,   30000,    3913,       6,       2,       1,\n",
       "              0],\n",
       "       [      5,      45,   30000,    4771,       3,       1,       1,\n",
       "              5],\n",
       "       [      6,      30, 1000000,    4064,       2,       1,       4,\n",
       "              5],\n",
       "       [      7,      35,   50000,    2951,       1,       0,       3,\n",
       "              2],\n",
       "       [      8,      35,   50000,    1736,       1,       4,       1,\n",
       "              3],\n",
       "       [      9,      35,   30000,    3059,       6,       0,       3,\n",
       "              1],\n",
       "       [     10,      45,   50000,     204,       2,       0,       1,\n",
       "              3],\n",
       "       [     11,      40,   50000,    2587,       4,       0,       1,\n",
       "              2],\n",
       "       [     12,      35,   30000,    1459,       3,       0,       0,\n",
       "              5],\n",
       "       [     13,      35,   50000,    4107,       5,       2,       1,\n",
       "              3],\n",
       "       [     14,      45,   70000,     834,       3,       4,       2,\n",
       "              5],\n",
       "       [     15,      30,   40000,    3225,       3,       1,       4,\n",
       "              1],\n",
       "       [     16,      40,   -5000,    4391,       0,       1,       4,\n",
       "              5],\n",
       "       [     17,      36,   30000,    2856,       3,       4,       3,\n",
       "              5],\n",
       "       [     18,      37,   60000,     587,       2,       1,       1,\n",
       "              0],\n",
       "       [     19,      30,   30000,    1891,       2,       4,       2,\n",
       "              0],\n",
       "       [     20,      40,   60000,    2505,       1,       1,       3,\n",
       "              0],\n",
       "       [     21,      45,   40000,     574,       6,       3,       0,\n",
       "              5],\n",
       "       [     22,      25,   30000,    3000,       5,       1,       3,\n",
       "              2],\n",
       "       [     23,      40,   58512,    4181,       3,       4,       3,\n",
       "              5],\n",
       "       [     24,      30,   70000,    4830,       3,       4,       1,\n",
       "              2],\n",
       "       [     25,      35,   50000,    4165,       0,       4,       0,\n",
       "              2],\n",
       "       [     26,      45,   60000,    2418,       6,       4,       3,\n",
       "              0],\n",
       "       [     27,      40,   58510,    3897,       2,       4,       2,\n",
       "              3],\n",
       "       [     28,      25,   50000,    4545,       5,       2,       2,\n",
       "              1],\n",
       "       [     29,      25,   50000,    2751,       1,       2,       4,\n",
       "              0],\n",
       "       [     30,      35,   30000,    1021,       2,       1,       0,\n",
       "              0],\n",
       "       [     31,      35,   50000,    1216,       6,       4,       0,\n",
       "              4],\n",
       "       [     32,      30,   70000,    4979,       1,       1,       4,\n",
       "              1],\n",
       "       [     33,      40,   58501,    2824,       0,       4,       3,\n",
       "              5],\n",
       "       [     34,      40,   50000,    2032,       0,       4,       0,\n",
       "              5],\n",
       "       [     35,      37,   30000,     903,       3,       2,       2,\n",
       "              0],\n",
       "       [     36,      35,   70000,    4196,       6,       2,       2,\n",
       "              1],\n",
       "       [     37,      36,   40000,    3786,       5,       0,       1,\n",
       "              0],\n",
       "       [     38,      35,   58509,    3819,       1,       2,       0,\n",
       "              2],\n",
       "       [     39,      40,   50000,     624,       2,       0,       3,\n",
       "              0],\n",
       "       [     40,      40,   30000,    3311,       6,       0,       4,\n",
       "              0],\n",
       "       [     41,      25,   40000,    1198,       6,       0,       4,\n",
       "              5],\n",
       "       [     42,      35,   40000,    1765,       0,       0,       3,\n",
       "              5],\n",
       "       [     43,      45,   60000,    4827,       3,       0,       1,\n",
       "              5],\n",
       "       [     44,      35,   70000,    4983,       3,       1,       4,\n",
       "              2],\n",
       "       [     45,      45,   50000,    3904,       1,       2,       0,\n",
       "              5],\n",
       "       [     46,      25,   30000,    2541,       0,       0,       1,\n",
       "              1],\n",
       "       [     47,      30,   60000,    2710,       6,       4,       0,\n",
       "              3],\n",
       "       [     48,      40,   70000,    3174,       5,       2,       2,\n",
       "              1],\n",
       "       [     49,      25,   60000,    3101,       0,       2,       1,\n",
       "              1],\n",
       "       [     50,      40,   58478,      54,       1,       0,       4,\n",
       "              5],\n",
       "       [     51,      35,   70000,    4919,       1,       1,       1,\n",
       "              3],\n",
       "       [     52,      30,   70000,     926,       0,       0,       1,\n",
       "              3],\n",
       "       [     53,      30,   50000,    1041,       1,       1,       1,\n",
       "              3],\n",
       "       [     54,      25,   70000,    4192,       0,       4,       1,\n",
       "              2],\n",
       "       [     55,      30,   60000,    4414,       2,       2,       0,\n",
       "              5],\n",
       "       [     56,      45,   70000,    4515,       0,       4,       2,\n",
       "              3],\n",
       "       [     57,      30,   50000,     685,       0,       1,       3,\n",
       "              2],\n",
       "       [     58,      40,   50000,    1743,       1,       1,       1,\n",
       "              0],\n",
       "       [     59,      40,   58492,    1732,       1,       4,       4,\n",
       "              0],\n",
       "       [     60,      40,   60000,    4802,       3,       1,       1,\n",
       "              2],\n",
       "       [     61,      40,   40000,     169,       3,       4,       4,\n",
       "              2],\n",
       "       [     62,      45,   40000,     880,       2,       2,       0,\n",
       "              5],\n",
       "       [     63,      35,   70000,    3725,       3,       4,       4,\n",
       "              5],\n",
       "       [     64,      36,   58489,    1419,       0,       2,       3,\n",
       "              0],\n",
       "       [     65,      25,   30000,     790,       1,       4,       2,\n",
       "              3],\n",
       "       [     66,      40,   70000,     166,       3,       1,       4,\n",
       "              0],\n",
       "       [     67,      30,   58501,    2888,       3,       4,       4,\n",
       "              3],\n",
       "       [     68,      40,   60000,    1200,       2,       1,       2,\n",
       "              3],\n",
       "       [     69,      30,   60000,    1981,       6,       4,       3,\n",
       "              5],\n",
       "       [     70,      37,   60000,    1062,       2,       4,       1,\n",
       "              1],\n",
       "       [     71,      36,   60000,    1714,       0,       0,       4,\n",
       "              1],\n",
       "       [     72,      36,   60000,    1131,       1,       1,       2,\n",
       "              2],\n",
       "       [     73,      30,   58517,    4779,       2,       0,       0,\n",
       "              5],\n",
       "       [     74,      40,   58482,     562,       3,       1,       2,\n",
       "              3],\n",
       "       [     75,      36,   50000,    2899,       1,       0,       0,\n",
       "              1],\n",
       "       [     76,      45,   40000,     609,       1,       2,       3,\n",
       "              3],\n",
       "       [     77,      30,   60000,    3722,       3,       4,       1,\n",
       "              1],\n",
       "       [     78,      30,   30000,    4633,       2,       1,       2,\n",
       "              1],\n",
       "       [     79,      40,   58506,    3393,       3,       1,       4,\n",
       "              1],\n",
       "       [     80,      30,   30000,    4120,       6,       4,       3,\n",
       "              5],\n",
       "       [     81,      30,   30000,    4849,       1,       1,       2,\n",
       "              0],\n",
       "       [     82,      37,   30000,    1520,       5,       1,       4,\n",
       "              3],\n",
       "       [     83,      40,   50000,     630,       5,       0,       2,\n",
       "              5],\n",
       "       [     84,      36,   58497,    2344,       0,       1,       0,\n",
       "              5],\n",
       "       [     85,      36,   30000,    3197,       3,       2,       2,\n",
       "              5],\n",
       "       [     86,      40,   60000,    4299,       3,       2,       2,\n",
       "              5],\n",
       "       [     87,      25,   70000,    1729,       0,       4,       2,\n",
       "              5],\n",
       "       [     88,      36,   30000,    3556,       0,       1,       3,\n",
       "              2],\n",
       "       [     89,      45,   50000,    2794,       0,       4,       2,\n",
       "              3],\n",
       "       [     90,      45,   58506,    3406,       1,       2,       4,\n",
       "              5],\n",
       "       [     91,      30,   50000,    4095,       6,       1,       0,\n",
       "              3],\n",
       "       [     92,      45,   30000,    1293,       3,       1,       0,\n",
       "              2],\n",
       "       [     93,      30,   58504,    3168,       1,       4,       2,\n",
       "              2],\n",
       "       [     94,      25,   70000,    2191,       0,       2,       3,\n",
       "              3],\n",
       "       [     95,      40,   30000,    3109,       3,       1,       3,\n",
       "              1],\n",
       "       [     96,      40,   50000,    4598,       1,       4,       4,\n",
       "              0],\n",
       "       [     97,      40,   40000,    3009,       6,       2,       2,\n",
       "              1],\n",
       "       [     98,      45,   60000,    2315,       1,       4,       0,\n",
       "              1],\n",
       "       [     99,      25,   50000,    2529,       6,       0,       3,\n",
       "              1],\n",
       "       [    100,      45,   58516,    4696,       0,       1,       2,\n",
       "              5],\n",
       "       [      1,      40,   70000,     619,       3,       4,       3,\n",
       "              3],\n",
       "       [      2,      45,   30000,    1945,       1,       0,       2,\n",
       "              3],\n",
       "       [      3,      35,   30000,    2783,       3,       1,       4,\n",
       "              2],\n",
       "       [      4,      45,   30000,    3913,       6,       2,       1,\n",
       "              0],\n",
       "       [      5,      45,   30000,    4771,       3,       1,       1,\n",
       "              5]])"
      ]
     },
     "execution_count": 71,
     "metadata": {},
     "output_type": "execute_result"
    }
   ],
   "source": [
    "data_imputed = imputer.fit_transform(data_train)\n",
    "data_imputed.astype(int)"
   ]
  },
  {
   "cell_type": "code",
   "execution_count": null,
   "metadata": {},
   "outputs": [
    {
     "data": {
      "text/plain": [
       "array([[    1,    40, 70000,   619,     3,     4,     3,     3]])"
      ]
     },
     "execution_count": 73,
     "metadata": {},
     "output_type": "execute_result"
    }
   ],
   "source": [
    "data_imputed[:5:7].astype(int).round()"
   ]
  },
  {
   "cell_type": "code",
   "execution_count": null,
   "metadata": {},
   "outputs": [],
   "source": [
    "data_encoder"
   ]
  },
  {
   "cell_type": "code",
   "execution_count": null,
   "metadata": {},
   "outputs": [
    {
     "name": "stderr",
     "output_type": "stream",
     "text": [
      "c:\\Users\\CAPACITI-JHB\\AppData\\Local\\Programs\\Python\\Python313\\Lib\\site-packages\\sklearn\\preprocessing\\_label.py:151: DataConversionWarning: A column-vector y was passed when a 1d array was expected. Please change the shape of y to (n_samples, ), for example using ravel().\n",
      "  y = column_or_1d(y, warn=True)\n"
     ]
    },
    {
     "ename": "ValueError",
     "evalue": "y contains previously unseen labels: [-5.0000e+03  6.0000e+00  7.0000e+00  8.0000e+00  9.0000e+00  1.0000e+01\n  1.1000e+01  1.2000e+01  1.3000e+01  1.4000e+01  1.5000e+01  1.6000e+01\n  1.7000e+01  1.8000e+01  1.9000e+01  2.0000e+01  2.1000e+01  2.2000e+01\n  2.3000e+01  2.4000e+01  2.5000e+01  2.6000e+01  2.7000e+01  2.8000e+01\n  2.9000e+01  3.0000e+01  3.1000e+01  3.2000e+01  3.3000e+01  3.4000e+01\n  3.5000e+01  3.6000e+01  3.7000e+01  3.8000e+01  3.9000e+01  4.0000e+01\n  4.1000e+01  4.2000e+01  4.3000e+01  4.4000e+01  4.5000e+01  4.6000e+01\n  4.7000e+01  4.8000e+01  4.9000e+01  5.0000e+01  5.1000e+01  5.2000e+01\n  5.3000e+01  5.4000e+01  5.5000e+01  5.6000e+01  5.7000e+01  5.8000e+01\n  5.9000e+01  6.0000e+01  6.1000e+01  6.2000e+01  6.3000e+01  6.4000e+01\n  6.5000e+01  6.6000e+01  6.7000e+01  6.8000e+01  6.9000e+01  7.0000e+01\n  7.1000e+01  7.2000e+01  7.3000e+01  7.4000e+01  7.5000e+01  7.6000e+01\n  7.7000e+01  7.8000e+01  7.9000e+01  8.0000e+01  8.1000e+01  8.2000e+01\n  8.3000e+01  8.4000e+01  8.5000e+01  8.6000e+01  8.7000e+01  8.8000e+01\n  8.9000e+01  9.0000e+01  9.1000e+01  9.2000e+01  9.3000e+01  9.4000e+01\n  9.5000e+01  9.6000e+01  9.7000e+01  9.8000e+01  9.9000e+01  1.0000e+02\n  1.6600e+02  1.6900e+02  2.0400e+02  5.6200e+02  5.7400e+02  5.8700e+02\n  6.0900e+02  6.1900e+02  6.2400e+02  6.3000e+02  6.8500e+02  7.9000e+02\n  8.3400e+02  8.8000e+02  9.0300e+02  9.2600e+02  1.0210e+03  1.0410e+03\n  1.0620e+03  1.1310e+03  1.1980e+03  1.2000e+03  1.2160e+03  1.2930e+03\n  1.4190e+03  1.4590e+03  1.5200e+03  1.7140e+03  1.7290e+03  1.7320e+03\n  1.7360e+03  1.7430e+03  1.7650e+03  1.8910e+03  1.9450e+03  1.9810e+03\n  2.0320e+03  2.1910e+03  2.3150e+03  2.3440e+03  2.4180e+03  2.5050e+03\n  2.5290e+03  2.5410e+03  2.5870e+03  2.7100e+03  2.7510e+03  2.7830e+03\n  2.7940e+03  2.8240e+03  2.8560e+03  2.8880e+03  2.8990e+03  2.9510e+03\n  3.0000e+03  3.0090e+03  3.0590e+03  3.1010e+03  3.1090e+03  3.1680e+03\n  3.1740e+03  3.1970e+03  3.2250e+03  3.3110e+03  3.3930e+03  3.4060e+03\n  3.5560e+03  3.7220e+03  3.7250e+03  3.7860e+03  3.8190e+03  3.8970e+03\n  3.9040e+03  3.9130e+03  4.0640e+03  4.0950e+03  4.1070e+03  4.1200e+03\n  4.1650e+03  4.1810e+03  4.1920e+03  4.1960e+03  4.2990e+03  4.3910e+03\n  4.4140e+03  4.5150e+03  4.5450e+03  4.5980e+03  4.6330e+03  4.6960e+03\n  4.7710e+03  4.7790e+03  4.8020e+03  4.8270e+03  4.8300e+03  4.8490e+03\n  4.9190e+03  4.9790e+03  4.9830e+03  3.0000e+04  4.0000e+04  5.0000e+04\n  5.8478e+04  5.8483e+04  5.8490e+04  5.8492e+04  5.8497e+04  5.8501e+04\n  5.8502e+04  5.8504e+04  5.8506e+04  5.8510e+04  5.8513e+04  5.8517e+04\n  5.8518e+04  6.0000e+04  7.0000e+04  1.0000e+06]",
     "output_type": "error",
     "traceback": [
      "\u001b[1;31m---------------------------------------------------------------------------\u001b[0m",
      "\u001b[1;31mValueError\u001b[0m                                Traceback (most recent call last)",
      "Cell \u001b[1;32mIn[74], line 1\u001b[0m\n\u001b[1;32m----> 1\u001b[0m data_imputed \u001b[38;5;241m=\u001b[39m \u001b[38;5;28mlist\u001b[39m(\u001b[43mdata_encoder\u001b[49m\u001b[38;5;241;43m.\u001b[39;49m\u001b[43minverse_transform\u001b[49m\u001b[43m(\u001b[49m\u001b[43mdata_imputed\u001b[49m\u001b[38;5;241;43m.\u001b[39;49m\u001b[43mround\u001b[49m\u001b[43m(\u001b[49m\u001b[43m)\u001b[49m\u001b[38;5;241;43m.\u001b[39;49m\u001b[43mreshape\u001b[49m\u001b[43m(\u001b[49m\u001b[38;5;241;43m-\u001b[39;49m\u001b[38;5;241;43m1\u001b[39;49m\u001b[43m,\u001b[49m\u001b[38;5;241;43m1\u001b[39;49m\u001b[43m)\u001b[49m\u001b[43m)\u001b[49m) \n",
      "File \u001b[1;32mc:\\Users\\CAPACITI-JHB\\AppData\\Local\\Programs\\Python\\Python313\\Lib\\site-packages\\sklearn\\preprocessing\\_label.py:162\u001b[0m, in \u001b[0;36mLabelEncoder.inverse_transform\u001b[1;34m(self, y)\u001b[0m\n\u001b[0;32m    156\u001b[0m diff \u001b[38;5;241m=\u001b[39m _setdiff1d(\n\u001b[0;32m    157\u001b[0m     ar1\u001b[38;5;241m=\u001b[39my,\n\u001b[0;32m    158\u001b[0m     ar2\u001b[38;5;241m=\u001b[39mxp\u001b[38;5;241m.\u001b[39marange(\u001b[38;5;28mself\u001b[39m\u001b[38;5;241m.\u001b[39mclasses_\u001b[38;5;241m.\u001b[39mshape[\u001b[38;5;241m0\u001b[39m], device\u001b[38;5;241m=\u001b[39mdevice(y)),\n\u001b[0;32m    159\u001b[0m     xp\u001b[38;5;241m=\u001b[39mxp,\n\u001b[0;32m    160\u001b[0m )\n\u001b[0;32m    161\u001b[0m \u001b[38;5;28;01mif\u001b[39;00m diff\u001b[38;5;241m.\u001b[39mshape[\u001b[38;5;241m0\u001b[39m]:\n\u001b[1;32m--> 162\u001b[0m     \u001b[38;5;28;01mraise\u001b[39;00m \u001b[38;5;167;01mValueError\u001b[39;00m(\u001b[38;5;124m\"\u001b[39m\u001b[38;5;124my contains previously unseen labels: \u001b[39m\u001b[38;5;132;01m%s\u001b[39;00m\u001b[38;5;124m\"\u001b[39m \u001b[38;5;241m%\u001b[39m \u001b[38;5;28mstr\u001b[39m(diff))\n\u001b[0;32m    163\u001b[0m y \u001b[38;5;241m=\u001b[39m xp\u001b[38;5;241m.\u001b[39masarray(y)\n\u001b[0;32m    164\u001b[0m \u001b[38;5;28;01mreturn\u001b[39;00m xp\u001b[38;5;241m.\u001b[39mtake(\u001b[38;5;28mself\u001b[39m\u001b[38;5;241m.\u001b[39mclasses_, y, axis\u001b[38;5;241m=\u001b[39m\u001b[38;5;241m0\u001b[39m)\n",
      "\u001b[1;31mValueError\u001b[0m: y contains previously unseen labels: [-5.0000e+03  6.0000e+00  7.0000e+00  8.0000e+00  9.0000e+00  1.0000e+01\n  1.1000e+01  1.2000e+01  1.3000e+01  1.4000e+01  1.5000e+01  1.6000e+01\n  1.7000e+01  1.8000e+01  1.9000e+01  2.0000e+01  2.1000e+01  2.2000e+01\n  2.3000e+01  2.4000e+01  2.5000e+01  2.6000e+01  2.7000e+01  2.8000e+01\n  2.9000e+01  3.0000e+01  3.1000e+01  3.2000e+01  3.3000e+01  3.4000e+01\n  3.5000e+01  3.6000e+01  3.7000e+01  3.8000e+01  3.9000e+01  4.0000e+01\n  4.1000e+01  4.2000e+01  4.3000e+01  4.4000e+01  4.5000e+01  4.6000e+01\n  4.7000e+01  4.8000e+01  4.9000e+01  5.0000e+01  5.1000e+01  5.2000e+01\n  5.3000e+01  5.4000e+01  5.5000e+01  5.6000e+01  5.7000e+01  5.8000e+01\n  5.9000e+01  6.0000e+01  6.1000e+01  6.2000e+01  6.3000e+01  6.4000e+01\n  6.5000e+01  6.6000e+01  6.7000e+01  6.8000e+01  6.9000e+01  7.0000e+01\n  7.1000e+01  7.2000e+01  7.3000e+01  7.4000e+01  7.5000e+01  7.6000e+01\n  7.7000e+01  7.8000e+01  7.9000e+01  8.0000e+01  8.1000e+01  8.2000e+01\n  8.3000e+01  8.4000e+01  8.5000e+01  8.6000e+01  8.7000e+01  8.8000e+01\n  8.9000e+01  9.0000e+01  9.1000e+01  9.2000e+01  9.3000e+01  9.4000e+01\n  9.5000e+01  9.6000e+01  9.7000e+01  9.8000e+01  9.9000e+01  1.0000e+02\n  1.6600e+02  1.6900e+02  2.0400e+02  5.6200e+02  5.7400e+02  5.8700e+02\n  6.0900e+02  6.1900e+02  6.2400e+02  6.3000e+02  6.8500e+02  7.9000e+02\n  8.3400e+02  8.8000e+02  9.0300e+02  9.2600e+02  1.0210e+03  1.0410e+03\n  1.0620e+03  1.1310e+03  1.1980e+03  1.2000e+03  1.2160e+03  1.2930e+03\n  1.4190e+03  1.4590e+03  1.5200e+03  1.7140e+03  1.7290e+03  1.7320e+03\n  1.7360e+03  1.7430e+03  1.7650e+03  1.8910e+03  1.9450e+03  1.9810e+03\n  2.0320e+03  2.1910e+03  2.3150e+03  2.3440e+03  2.4180e+03  2.5050e+03\n  2.5290e+03  2.5410e+03  2.5870e+03  2.7100e+03  2.7510e+03  2.7830e+03\n  2.7940e+03  2.8240e+03  2.8560e+03  2.8880e+03  2.8990e+03  2.9510e+03\n  3.0000e+03  3.0090e+03  3.0590e+03  3.1010e+03  3.1090e+03  3.1680e+03\n  3.1740e+03  3.1970e+03  3.2250e+03  3.3110e+03  3.3930e+03  3.4060e+03\n  3.5560e+03  3.7220e+03  3.7250e+03  3.7860e+03  3.8190e+03  3.8970e+03\n  3.9040e+03  3.9130e+03  4.0640e+03  4.0950e+03  4.1070e+03  4.1200e+03\n  4.1650e+03  4.1810e+03  4.1920e+03  4.1960e+03  4.2990e+03  4.3910e+03\n  4.4140e+03  4.5150e+03  4.5450e+03  4.5980e+03  4.6330e+03  4.6960e+03\n  4.7710e+03  4.7790e+03  4.8020e+03  4.8270e+03  4.8300e+03  4.8490e+03\n  4.9190e+03  4.9790e+03  4.9830e+03  3.0000e+04  4.0000e+04  5.0000e+04\n  5.8478e+04  5.8483e+04  5.8490e+04  5.8492e+04  5.8497e+04  5.8501e+04\n  5.8502e+04  5.8504e+04  5.8506e+04  5.8510e+04  5.8513e+04  5.8517e+04\n  5.8518e+04  6.0000e+04  7.0000e+04  1.0000e+06]"
     ]
    }
   ],
   "source": [
    "data_imputed = list(data_encoder.inverse_transform(data_imputed.round().reshape(-1,1))) "
   ]
  },
  {
   "cell_type": "code",
   "execution_count": null,
   "metadata": {},
   "outputs": [],
   "source": [
    "# Encode categorical variables\n",
    "label_encoder = LabelEncoder()\n",
    "\n",
    "# Encode the 'City' column\n",
    "city_column = data['City']\n",
    "city_column_encoded = label_encoder.fit_transform(city_column.astype(str)).reshape(-1, 1)\n",
    "\n",
    "# Apply KNN Imputer\n",
    "knn_imputer = KNNImputer(n_neighbors=2)\n",
    "imputed_city_column = knn_imputer.fit_transform(city_column_encoded)\n",
    "\n",
    "# Decode categorical variables\n",
    "# Ensure the imputed values are within the range of the fitted label encoder\n",
    "imputed_city_column = np.clip(imputed_city_column.round().astype(int), 0, len(label_encoder.classes_) - 1)\n",
    "imputed_city_column_decoded = label_encoder.inverse_transform(imputed_city_column.flatten())\n",
    "\n",
    "# Update the original data with the imputed values\n",
    "data['City'] = imputed_city_column_decoded"
   ]
  },
  {
   "cell_type": "markdown",
   "metadata": {},
   "source": [
    "#### Handling Categorical missing values Using the KNN Imputer\n",
    "\n",
    "For us to be able to use KNN Imputation on categorical data we have to first encode the data, use KNN Imputation and decode the data back to their categories."
   ]
  },
  {
   "cell_type": "code",
   "execution_count": null,
   "metadata": {},
   "outputs": [
    {
     "data": {
      "text/plain": [
       "array(['New York', 'Houston', nan, 'Los Angeles', 'New-York', 'Phoenix',\n",
       "       'Chicago'], dtype=object)"
      ]
     },
     "execution_count": 226,
     "metadata": {},
     "output_type": "execute_result"
    }
   ],
   "source": [
    "data['City'].unique()"
   ]
  },
  {
   "cell_type": "code",
   "execution_count": null,
   "metadata": {},
   "outputs": [],
   "source": [
    "data['City'] = data['City'].replace('nan', np.nan)"
   ]
  },
  {
   "cell_type": "code",
   "execution_count": null,
   "metadata": {},
   "outputs": [
    {
     "data": {
      "text/plain": [
       "array(['New York', 'Houston', nan, 'Los Angeles', 'New-York', 'Phoenix',\n",
       "       'Chicago'], dtype=object)"
      ]
     },
     "execution_count": 228,
     "metadata": {},
     "output_type": "execute_result"
    }
   ],
   "source": [
    "data['City'].unique()\n"
   ]
  },
  {
   "cell_type": "code",
   "execution_count": null,
   "metadata": {},
   "outputs": [],
   "source": [
    "# Encode categorical variables\n",
    "label_encoder = LabelEncoder()\n",
    "\n",
    "# Encode the 'City' column\n",
    "city_column = data['City']\n",
    "city_column_encoded = label_encoder.fit_transform(city_column.astype(str)).reshape(-1, 1)\n",
    "\n",
    "# Apply KNN Imputer\n",
    "knn_imputer = KNNImputer(n_neighbors=2)\n",
    "imputed_city_column = knn_imputer.fit_transform(city_column_encoded)\n",
    "\n",
    "# Decode categorical variables\n",
    "imputed_city_column_decoded = label_encoder.inverse_transform(imputed_city_column.round().astype(int).flatten())\n",
    "\n",
    "# Update the original data with the imputed values\n",
    "data['City'] = imputed_city_column_decoded"
   ]
  },
  {
   "cell_type": "code",
   "execution_count": null,
   "metadata": {},
   "outputs": [
    {
     "data": {
      "text/plain": [
       "array(['New York', 'Houston', 'nan', 'Los Angeles', 'New-York', 'Phoenix',\n",
       "       'Chicago'], dtype=object)"
      ]
     },
     "execution_count": 230,
     "metadata": {},
     "output_type": "execute_result"
    }
   ],
   "source": [
    "data['City'].unique()"
   ]
  },
  {
   "cell_type": "markdown",
   "metadata": {},
   "source": [
    "##### Using SimpleImputer from sklearn."
   ]
  },
  {
   "cell_type": "code",
   "execution_count": null,
   "metadata": {},
   "outputs": [
    {
     "data": {
      "text/plain": [
       "array([['New York'],\n",
       "       ['Houston'],\n",
       "       ['New York'],\n",
       "       ['New York'],\n",
       "       ['New York'],\n",
       "       ['Los Angeles'],\n",
       "       ['Houston'],\n",
       "       ['Houston'],\n",
       "       ['New York'],\n",
       "       ['Los Angeles'],\n",
       "       ['New-York'],\n",
       "       ['New York'],\n",
       "       ['Phoenix'],\n",
       "       ['New York'],\n",
       "       ['New York'],\n",
       "       ['Chicago'],\n",
       "       ['New York'],\n",
       "       ['Los Angeles'],\n",
       "       ['Los Angeles'],\n",
       "       ['Houston'],\n",
       "       ['New York'],\n",
       "       ['Phoenix'],\n",
       "       ['New York'],\n",
       "       ['New York'],\n",
       "       ['Chicago'],\n",
       "       ['New York'],\n",
       "       ['Los Angeles'],\n",
       "       ['Phoenix'],\n",
       "       ['Houston'],\n",
       "       ['Los Angeles'],\n",
       "       ['New York'],\n",
       "       ['Houston'],\n",
       "       ['Chicago'],\n",
       "       ['Chicago'],\n",
       "       ['New York'],\n",
       "       ['New York'],\n",
       "       ['Phoenix'],\n",
       "       ['Houston'],\n",
       "       ['Los Angeles'],\n",
       "       ['New York'],\n",
       "       ['New York'],\n",
       "       ['Chicago'],\n",
       "       ['New York'],\n",
       "       ['New York'],\n",
       "       ['Houston'],\n",
       "       ['Chicago'],\n",
       "       ['New York'],\n",
       "       ['Phoenix'],\n",
       "       ['Chicago'],\n",
       "       ['Houston'],\n",
       "       ['Houston'],\n",
       "       ['Chicago'],\n",
       "       ['Houston'],\n",
       "       ['Chicago'],\n",
       "       ['Los Angeles'],\n",
       "       ['Chicago'],\n",
       "       ['Chicago'],\n",
       "       ['Houston'],\n",
       "       ['Houston'],\n",
       "       ['New York'],\n",
       "       ['New York'],\n",
       "       ['Los Angeles'],\n",
       "       ['New York'],\n",
       "       ['Chicago'],\n",
       "       ['Houston'],\n",
       "       ['New York'],\n",
       "       ['New York'],\n",
       "       ['Los Angeles'],\n",
       "       ['New York'],\n",
       "       ['Los Angeles'],\n",
       "       ['Chicago'],\n",
       "       ['Houston'],\n",
       "       ['Los Angeles'],\n",
       "       ['New York'],\n",
       "       ['Houston'],\n",
       "       ['Houston'],\n",
       "       ['New York'],\n",
       "       ['Los Angeles'],\n",
       "       ['New York'],\n",
       "       ['New York'],\n",
       "       ['Houston'],\n",
       "       ['Phoenix'],\n",
       "       ['Phoenix'],\n",
       "       ['Chicago'],\n",
       "       ['New York'],\n",
       "       ['New York'],\n",
       "       ['Chicago'],\n",
       "       ['Chicago'],\n",
       "       ['Chicago'],\n",
       "       ['Houston'],\n",
       "       ['New York'],\n",
       "       ['New York'],\n",
       "       ['Houston'],\n",
       "       ['Chicago'],\n",
       "       ['New York'],\n",
       "       ['Houston'],\n",
       "       ['New York'],\n",
       "       ['Houston'],\n",
       "       ['New York'],\n",
       "       ['Chicago'],\n",
       "       ['New York'],\n",
       "       ['Houston'],\n",
       "       ['New York'],\n",
       "       ['New York'],\n",
       "       ['New York']], dtype=object)"
      ]
     },
     "execution_count": 288,
     "metadata": {},
     "output_type": "execute_result"
    }
   ],
   "source": [
    "\n",
    "label_encoder = SimpleImputer(missing_values=np.nan, strategy='most_frequent')\n",
    "label_encoder = SimpleImputer(missing_values='nan', strategy='most_frequent')\n",
    "\n",
    "\n",
    "city_simp_imp = data['City'].copy(deep=True)\n",
    "\n",
    "#data['City_Simp_Imp'] = label_encoder.fit_transform(data.loc[:, 'City'].values.reshape(-1, 1)) \n",
    "\n",
    "label_encoder.fit_transform(city_simp_imp.values.reshape(-1, 1))"
   ]
  },
  {
   "cell_type": "code",
   "execution_count": null,
   "metadata": {},
   "outputs": [
    {
     "data": {
      "text/plain": [
       "np.int64(0)"
      ]
     },
     "execution_count": 289,
     "metadata": {},
     "output_type": "execute_result"
    }
   ],
   "source": [
    "city_simp_imp[city_simp_imp]"
   ]
  },
  {
   "cell_type": "code",
   "execution_count": null,
   "metadata": {},
   "outputs": [],
   "source": [
    "data = data.drop(columns = ['City_Simp_Imp'])"
   ]
  },
  {
   "cell_type": "code",
   "execution_count": null,
   "metadata": {},
   "outputs": [
    {
     "data": {
      "text/plain": [
       "array([['New York'],\n",
       "       ['Houston'],\n",
       "       ['New York'],\n",
       "       ['nan'],\n",
       "       ['New York'],\n",
       "       ['Los Angeles'],\n",
       "       ['Houston'],\n",
       "       ['Houston'],\n",
       "       ['nan'],\n",
       "       ['Los Angeles'],\n",
       "       ['New-York'],\n",
       "       ['New York'],\n",
       "       ['Phoenix'],\n",
       "       ['New York'],\n",
       "       ['New York'],\n",
       "       ['Chicago'],\n",
       "       ['New York'],\n",
       "       ['Los Angeles'],\n",
       "       ['Los Angeles'],\n",
       "       ['Houston'],\n",
       "       ['nan'],\n",
       "       ['Phoenix'],\n",
       "       ['New York'],\n",
       "       ['New York'],\n",
       "       ['Chicago'],\n",
       "       ['nan'],\n",
       "       ['Los Angeles'],\n",
       "       ['Phoenix'],\n",
       "       ['Houston'],\n",
       "       ['Los Angeles'],\n",
       "       ['nan'],\n",
       "       ['Houston'],\n",
       "       ['Chicago'],\n",
       "       ['Chicago'],\n",
       "       ['New York'],\n",
       "       ['nan'],\n",
       "       ['Phoenix'],\n",
       "       ['Houston'],\n",
       "       ['Los Angeles'],\n",
       "       ['nan'],\n",
       "       ['nan'],\n",
       "       ['Chicago'],\n",
       "       ['New York'],\n",
       "       ['New York'],\n",
       "       ['Houston'],\n",
       "       ['Chicago'],\n",
       "       ['nan'],\n",
       "       ['Phoenix'],\n",
       "       ['Chicago'],\n",
       "       ['Houston'],\n",
       "       ['Houston'],\n",
       "       ['Chicago'],\n",
       "       ['Houston'],\n",
       "       ['Chicago'],\n",
       "       ['Los Angeles'],\n",
       "       ['Chicago'],\n",
       "       ['Chicago'],\n",
       "       ['Houston'],\n",
       "       ['Houston'],\n",
       "       ['New York'],\n",
       "       ['New York'],\n",
       "       ['Los Angeles'],\n",
       "       ['New York'],\n",
       "       ['Chicago'],\n",
       "       ['Houston'],\n",
       "       ['New York'],\n",
       "       ['New York'],\n",
       "       ['Los Angeles'],\n",
       "       ['nan'],\n",
       "       ['Los Angeles'],\n",
       "       ['Chicago'],\n",
       "       ['Houston'],\n",
       "       ['Los Angeles'],\n",
       "       ['New York'],\n",
       "       ['Houston'],\n",
       "       ['Houston'],\n",
       "       ['New York'],\n",
       "       ['Los Angeles'],\n",
       "       ['New York'],\n",
       "       ['nan'],\n",
       "       ['Houston'],\n",
       "       ['Phoenix'],\n",
       "       ['Phoenix'],\n",
       "       ['Chicago'],\n",
       "       ['New York'],\n",
       "       ['New York'],\n",
       "       ['Chicago'],\n",
       "       ['Chicago'],\n",
       "       ['Chicago'],\n",
       "       ['Houston'],\n",
       "       ['nan'],\n",
       "       ['New York'],\n",
       "       ['Houston'],\n",
       "       ['Chicago'],\n",
       "       ['New York'],\n",
       "       ['Houston'],\n",
       "       ['nan'],\n",
       "       ['Houston'],\n",
       "       ['nan'],\n",
       "       ['Chicago'],\n",
       "       ['New York'],\n",
       "       ['Houston'],\n",
       "       ['New York'],\n",
       "       ['nan'],\n",
       "       ['New York']], dtype=object)"
      ]
     },
     "execution_count": 232,
     "metadata": {},
     "output_type": "execute_result"
    }
   ],
   "source": [
    "\n",
    "label_encoder = SimpleImputer(missing_values=np.nan, strategy='most_frequent')\n",
    "\n",
    "data['City_Simp_Imp'] = data['City'].copy() \n",
    "\n",
    "label_encoder.fit_transform(data['City_Simp_Imp'].values.reshape(-1, 1))\n"
   ]
  },
  {
   "cell_type": "code",
   "execution_count": null,
   "metadata": {},
   "outputs": [
    {
     "data": {
      "text/plain": [
       "array(['New York', 'Houston', 'nan', 'Los Angeles', 'New-York', 'Phoenix',\n",
       "       'Chicago'], dtype=object)"
      ]
     },
     "execution_count": 233,
     "metadata": {},
     "output_type": "execute_result"
    }
   ],
   "source": [
    "data['City'].unique()"
   ]
  },
  {
   "cell_type": "code",
   "execution_count": null,
   "metadata": {},
   "outputs": [],
   "source": [
    "# Encode categorical variables\n",
    "label_encoder = LabelEncoder()\n",
    "\n",
    "# Encode the 'Gender' column\n",
    "gender_column = data['Gender']\n",
    "gender_column_encoded = label_encoder.fit_transform(gender_column.astype(str)).reshape(-1, 1)\n",
    "\n",
    "# Apply KNN Imputer\n",
    "knn_imputer = KNNImputer(n_neighbors=2)\n",
    "imputed_gender_column = knn_imputer.fit_transform(gender_column_encoded)\n",
    "\n",
    "# Decode categorical variables\n",
    "imputed_gender_column_decoded = label_encoder.inverse_transform(imputed_gender_column.round().astype(int).flatten())\n",
    "\n",
    "# Update the original data with the imputed values\n",
    "data['Gender'] = imputed_gender_column_decoded"
   ]
  },
  {
   "cell_type": "code",
   "execution_count": null,
   "metadata": {},
   "outputs": [
    {
     "data": {
      "text/plain": [
       "array([nan, 'Female', 'Male', 'Other', 'male'], dtype=object)"
      ]
     },
     "execution_count": 235,
     "metadata": {},
     "output_type": "execute_result"
    }
   ],
   "source": [
    "data_mean_imputed['Gender'].unique()"
   ]
  },
  {
   "cell_type": "code",
   "execution_count": null,
   "metadata": {},
   "outputs": [
    {
     "data": {
      "text/plain": [
       "0       nan\n",
       "1    Female\n",
       "2      Male\n",
       "3     Other\n",
       "4      Male\n",
       "Name: Gender, dtype: object"
      ]
     },
     "execution_count": 236,
     "metadata": {},
     "output_type": "execute_result"
    }
   ],
   "source": [
    "data['Gender'].head()"
   ]
  },
  {
   "cell_type": "code",
   "execution_count": null,
   "metadata": {},
   "outputs": [],
   "source": [
    "# Encode categorical variables\n",
    "label_encoder = LabelEncoder()\n",
    "\n",
    "# Encode the 'Gender' column\n",
    "marital_status_col = data['Marital_Status']\n",
    "marital_status_column_encoded = label_encoder.fit_transform(marital_status_col.astype(str)).reshape(-1, 1)\n",
    "\n",
    "# Apply KNN Imputer\n",
    "knn_imputer = KNNImputer(n_neighbors=2)\n",
    "imputed_marital_status_col = knn_imputer.fit_transform(marital_status_column_encoded)\n",
    "\n",
    "# Decode categorical variables\n",
    "imputed_marital_status_col_decoded = label_encoder.inverse_transform(imputed_marital_status_col.round().astype(int).flatten())\n",
    "\n",
    "# Update the original data with the imputed values\n",
    "data['Marital_Status'] = imputed_marital_status_col_decoded"
   ]
  },
  {
   "cell_type": "code",
   "execution_count": null,
   "metadata": {},
   "outputs": [
    {
     "data": {
      "text/plain": [
       "0    Widowed\n",
       "1     Single\n",
       "2        nan\n",
       "3    Married\n",
       "4    Married\n",
       "Name: Marital_Status, dtype: object"
      ]
     },
     "execution_count": 238,
     "metadata": {},
     "output_type": "execute_result"
    }
   ],
   "source": [
    "data['Marital_Status'].head()"
   ]
  },
  {
   "cell_type": "code",
   "execution_count": null,
   "metadata": {},
   "outputs": [],
   "source": [
    "# Encode categorical variables\n",
    "label_encoder = LabelEncoder()\n",
    "\n",
    "# Encode the 'Gender' column\n",
    "education_col = data['Education']\n",
    "education_column_encoded = label_encoder.fit_transform(education_col.astype(str)).reshape(-1, 1)\n",
    "\n",
    "# Apply KNN Imputer\n",
    "knn_imputer = KNNImputer(n_neighbors=2)\n",
    "imputed_education_col = knn_imputer.fit_transform(education_column_encoded)\n",
    "\n",
    "# Decode categorical variables\n",
    "education_col_decoded = label_encoder.inverse_transform(imputed_education_col.round().astype(int).flatten())\n",
    "\n",
    "# Update the original data with the imputed values\n",
    "data['Education'] = education_col_decoded"
   ]
  },
  {
   "cell_type": "code",
   "execution_count": null,
   "metadata": {},
   "outputs": [
    {
     "data": {
      "text/plain": [
       "0         PhD\n",
       "1         PhD\n",
       "2      Master\n",
       "3    Bachelor\n",
       "4         nan\n",
       "Name: Education, dtype: object"
      ]
     },
     "execution_count": 240,
     "metadata": {},
     "output_type": "execute_result"
    }
   ],
   "source": [
    "data['Education'].head()    "
   ]
  },
  {
   "cell_type": "code",
   "execution_count": null,
   "metadata": {},
   "outputs": [
    {
     "data": {
      "text/html": [
       "<div>\n",
       "<style scoped>\n",
       "    .dataframe tbody tr th:only-of-type {\n",
       "        vertical-align: middle;\n",
       "    }\n",
       "\n",
       "    .dataframe tbody tr th {\n",
       "        vertical-align: top;\n",
       "    }\n",
       "\n",
       "    .dataframe thead th {\n",
       "        text-align: right;\n",
       "    }\n",
       "</style>\n",
       "<table border=\"1\" class=\"dataframe\">\n",
       "  <thead>\n",
       "    <tr style=\"text-align: right;\">\n",
       "      <th></th>\n",
       "      <th>Customer_ID</th>\n",
       "      <th>Age</th>\n",
       "      <th>Salary</th>\n",
       "      <th>City</th>\n",
       "      <th>Gender</th>\n",
       "      <th>Purchase_Amount</th>\n",
       "      <th>Signup_Date</th>\n",
       "      <th>Marital_Status</th>\n",
       "      <th>Education</th>\n",
       "      <th>City_Simp_Imp</th>\n",
       "    </tr>\n",
       "  </thead>\n",
       "  <tbody>\n",
       "    <tr>\n",
       "      <th>0</th>\n",
       "      <td>1</td>\n",
       "      <td>40.0</td>\n",
       "      <td>70000.0</td>\n",
       "      <td>New York</td>\n",
       "      <td>nan</td>\n",
       "      <td>619</td>\n",
       "      <td>2022-01-01</td>\n",
       "      <td>Widowed</td>\n",
       "      <td>PhD</td>\n",
       "      <td>New York</td>\n",
       "    </tr>\n",
       "    <tr>\n",
       "      <th>1</th>\n",
       "      <td>2</td>\n",
       "      <td>45.0</td>\n",
       "      <td>30000.0</td>\n",
       "      <td>Houston</td>\n",
       "      <td>Female</td>\n",
       "      <td>1945</td>\n",
       "      <td>2022-01-02</td>\n",
       "      <td>Single</td>\n",
       "      <td>PhD</td>\n",
       "      <td>Houston</td>\n",
       "    </tr>\n",
       "    <tr>\n",
       "      <th>2</th>\n",
       "      <td>3</td>\n",
       "      <td>35.0</td>\n",
       "      <td>30000.0</td>\n",
       "      <td>New York</td>\n",
       "      <td>Male</td>\n",
       "      <td>2783</td>\n",
       "      <td>2022-01-03</td>\n",
       "      <td>nan</td>\n",
       "      <td>Master</td>\n",
       "      <td>New York</td>\n",
       "    </tr>\n",
       "    <tr>\n",
       "      <th>3</th>\n",
       "      <td>4</td>\n",
       "      <td>45.0</td>\n",
       "      <td>30000.0</td>\n",
       "      <td>nan</td>\n",
       "      <td>Other</td>\n",
       "      <td>3913</td>\n",
       "      <td>2022-01-04</td>\n",
       "      <td>Married</td>\n",
       "      <td>Bachelor</td>\n",
       "      <td>nan</td>\n",
       "    </tr>\n",
       "    <tr>\n",
       "      <th>4</th>\n",
       "      <td>5</td>\n",
       "      <td>45.0</td>\n",
       "      <td>30000.0</td>\n",
       "      <td>New York</td>\n",
       "      <td>Male</td>\n",
       "      <td>4771</td>\n",
       "      <td>2022-01-05</td>\n",
       "      <td>Married</td>\n",
       "      <td>nan</td>\n",
       "      <td>New York</td>\n",
       "    </tr>\n",
       "  </tbody>\n",
       "</table>\n",
       "</div>"
      ],
      "text/plain": [
       "   Customer_ID   Age   Salary      City  Gender  Purchase_Amount Signup_Date  \\\n",
       "0            1  40.0  70000.0  New York     nan              619  2022-01-01   \n",
       "1            2  45.0  30000.0   Houston  Female             1945  2022-01-02   \n",
       "2            3  35.0  30000.0  New York    Male             2783  2022-01-03   \n",
       "3            4  45.0  30000.0       nan   Other             3913  2022-01-04   \n",
       "4            5  45.0  30000.0  New York    Male             4771  2022-01-05   \n",
       "\n",
       "  Marital_Status Education City_Simp_Imp  \n",
       "0        Widowed       PhD      New York  \n",
       "1         Single       PhD       Houston  \n",
       "2            nan    Master      New York  \n",
       "3        Married  Bachelor           nan  \n",
       "4        Married       nan      New York  "
      ]
     },
     "execution_count": 241,
     "metadata": {},
     "output_type": "execute_result"
    }
   ],
   "source": [
    "data.head()"
   ]
  },
  {
   "cell_type": "code",
   "execution_count": null,
   "metadata": {},
   "outputs": [
    {
     "name": "stdout",
     "output_type": "stream",
     "text": [
      "<class 'pandas.core.frame.DataFrame'>\n",
      "RangeIndex: 105 entries, 0 to 104\n",
      "Data columns (total 10 columns):\n",
      " #   Column           Non-Null Count  Dtype  \n",
      "---  ------           --------------  -----  \n",
      " 0   Customer_ID      105 non-null    int64  \n",
      " 1   Age              105 non-null    float64\n",
      " 2   Salary           105 non-null    float64\n",
      " 3   City             105 non-null    object \n",
      " 4   Gender           105 non-null    object \n",
      " 5   Purchase_Amount  105 non-null    int64  \n",
      " 6   Signup_Date      105 non-null    object \n",
      " 7   Marital_Status   105 non-null    object \n",
      " 8   Education        105 non-null    object \n",
      " 9   City_Simp_Imp    105 non-null    object \n",
      "dtypes: float64(2), int64(2), object(6)\n",
      "memory usage: 8.3+ KB\n"
     ]
    }
   ],
   "source": [
    "data.info()\n"
   ]
  },
  {
   "cell_type": "code",
   "execution_count": null,
   "metadata": {},
   "outputs": [
    {
     "data": {
      "text/plain": [
       "Customer_ID        0\n",
       "Age                0\n",
       "Salary             0\n",
       "City               0\n",
       "Gender             0\n",
       "Purchase_Amount    0\n",
       "Signup_Date        0\n",
       "Marital_Status     0\n",
       "Education          0\n",
       "City_Simp_Imp      0\n",
       "dtype: int64"
      ]
     },
     "execution_count": 243,
     "metadata": {},
     "output_type": "execute_result"
    }
   ],
   "source": [
    "data.isna().sum()"
   ]
  },
  {
   "cell_type": "code",
   "execution_count": null,
   "metadata": {},
   "outputs": [
    {
     "data": {
      "text/plain": [
       "City\n",
       "Chicago        19\n",
       "Houston        23\n",
       "Los Angeles    13\n",
       "New York       27\n",
       "New-York        1\n",
       "Phoenix         7\n",
       "nan            15\n",
       "Name: City, dtype: int64"
      ]
     },
     "execution_count": 244,
     "metadata": {},
     "output_type": "execute_result"
    }
   ],
   "source": [
    "grouped_city = data.groupby('City')['City'].count()\n",
    "grouped_city"
   ]
  },
  {
   "cell_type": "code",
   "execution_count": null,
   "metadata": {},
   "outputs": [
    {
     "data": {
      "text/plain": [
       "Gender\n",
       "Female    21\n",
       "Male      32\n",
       "Other     20\n",
       "male       1\n",
       "nan       31\n",
       "Name: Gender, dtype: int64"
      ]
     },
     "execution_count": 245,
     "metadata": {},
     "output_type": "execute_result"
    }
   ],
   "source": [
    "grouped_gender = data.groupby('Gender')['Gender'].count()\n",
    "grouped_gender"
   ]
  },
  {
   "cell_type": "code",
   "execution_count": null,
   "metadata": {},
   "outputs": [
    {
     "data": {
      "text/plain": [
       "Marital_Status\n",
       "Divorced    17\n",
       "Married     22\n",
       "Single      24\n",
       "Widowed     21\n",
       "nan         21\n",
       "Name: Marital_Status, dtype: int64"
      ]
     },
     "execution_count": 246,
     "metadata": {},
     "output_type": "execute_result"
    }
   ],
   "source": [
    "grouped_marital_st = data.groupby('Marital_Status')['Marital_Status'].count()\n",
    "grouped_marital_st"
   ]
  },
  {
   "cell_type": "code",
   "execution_count": null,
   "metadata": {},
   "outputs": [
    {
     "data": {
      "text/plain": [
       "Education\n",
       "Bachelor       18\n",
       "High School    18\n",
       "Master         17\n",
       "PhD            22\n",
       "bachelor        1\n",
       "nan            29\n",
       "Name: Education, dtype: int64"
      ]
     },
     "execution_count": 247,
     "metadata": {},
     "output_type": "execute_result"
    }
   ],
   "source": [
    "grouped_education = data.groupby('Education')['Education'].count()\n",
    "grouped_education"
   ]
  },
  {
   "cell_type": "markdown",
   "metadata": {},
   "source": [
    "### 2. Categorical Data Standardization\n",
    "* The `City` and `Gender` columns contain inconsistent values. Write a Python function to detect and correct inconsistencies in these categorical columns, ensuring uniformity."
   ]
  },
  {
   "cell_type": "code",
   "execution_count": null,
   "metadata": {},
   "outputs": [
    {
     "data": {
      "text/plain": [
       "array(['New York', 'Houston', 'nan', 'Los Angeles', 'New-York', 'Phoenix',\n",
       "       'Chicago'], dtype=object)"
      ]
     },
     "execution_count": 248,
     "metadata": {},
     "output_type": "execute_result"
    }
   ],
   "source": [
    "data['City'].unique()"
   ]
  },
  {
   "cell_type": "code",
   "execution_count": null,
   "metadata": {},
   "outputs": [
    {
     "data": {
      "text/plain": [
       "array(['nan', 'Female', 'Male', 'Other', 'male'], dtype=object)"
      ]
     },
     "execution_count": 249,
     "metadata": {},
     "output_type": "execute_result"
    }
   ],
   "source": [
    "data['Gender'].unique()"
   ]
  },
  {
   "cell_type": "code",
   "execution_count": null,
   "metadata": {},
   "outputs": [
    {
     "data": {
      "text/plain": [
       "array(['nan', 'Female', 'Male', 'Other'], dtype=object)"
      ]
     },
     "execution_count": 250,
     "metadata": {},
     "output_type": "execute_result"
    }
   ],
   "source": [
    "data['Gender'] = data['Gender'].replace('male', 'Male')\n",
    "data['Gender'].unique()"
   ]
  },
  {
   "cell_type": "markdown",
   "metadata": {},
   "source": [
    "### 3. Duplicate Detection and Handling\n",
    "* Write a Python script to identify duplicate rows in the dataset. What criteria should be used to detect duplicates? Explain why duplicates might appear in real-world data."
   ]
  },
  {
   "cell_type": "markdown",
   "metadata": {},
   "source": [
    "1. You can remove duplicated rows using the drop_duplicates method.\n",
    "2. You can specify whether to keep the first or last occurrence of the duplicated rows.\n",
    "3. You can remove duplicates based on specific columns.\n",
    "4. Removing Duplicates Based on Specific Columns.\n",
    "5. Handling Duplicates with Aggregation. You may want to aggregate the duplicated rows instead of simply removing them\n",
    "6.  Flagging Duplicates - If you want to flag duplicates instead of removing them, you can add a new column indicating whether a row is duplicated."
   ]
  },
  {
   "cell_type": "markdown",
   "metadata": {},
   "source": [
    "Dropping duplicates in this case might be tricky as a customer might appear more than once, buying the same product which costs the same. But a customer cannot have the more than one sign-up date as the first entry must've been recorded. In this case, we can only include the latest sign-up date as it is the final update in the data."
   ]
  },
  {
   "cell_type": "code",
   "execution_count": null,
   "metadata": {},
   "outputs": [
    {
     "data": {
      "text/plain": [
       "np.int64(5)"
      ]
     },
     "execution_count": 251,
     "metadata": {},
     "output_type": "execute_result"
    }
   ],
   "source": [
    "data[data.columns].duplicated().sum()"
   ]
  },
  {
   "cell_type": "code",
   "execution_count": null,
   "metadata": {},
   "outputs": [
    {
     "data": {
      "text/html": [
       "<div>\n",
       "<style scoped>\n",
       "    .dataframe tbody tr th:only-of-type {\n",
       "        vertical-align: middle;\n",
       "    }\n",
       "\n",
       "    .dataframe tbody tr th {\n",
       "        vertical-align: top;\n",
       "    }\n",
       "\n",
       "    .dataframe thead th {\n",
       "        text-align: right;\n",
       "    }\n",
       "</style>\n",
       "<table border=\"1\" class=\"dataframe\">\n",
       "  <thead>\n",
       "    <tr style=\"text-align: right;\">\n",
       "      <th></th>\n",
       "      <th>Customer_ID</th>\n",
       "      <th>Age</th>\n",
       "      <th>Salary</th>\n",
       "      <th>City</th>\n",
       "      <th>Gender</th>\n",
       "      <th>Purchase_Amount</th>\n",
       "      <th>Signup_Date</th>\n",
       "      <th>Marital_Status</th>\n",
       "      <th>Education</th>\n",
       "      <th>City_Simp_Imp</th>\n",
       "    </tr>\n",
       "  </thead>\n",
       "  <tbody>\n",
       "    <tr>\n",
       "      <th>5</th>\n",
       "      <td>6</td>\n",
       "      <td>30.0</td>\n",
       "      <td>1000000.0</td>\n",
       "      <td>Los Angeles</td>\n",
       "      <td>Male</td>\n",
       "      <td>4064</td>\n",
       "      <td>2022-01-06</td>\n",
       "      <td>nan</td>\n",
       "      <td>nan</td>\n",
       "      <td>Los Angeles</td>\n",
       "    </tr>\n",
       "    <tr>\n",
       "      <th>6</th>\n",
       "      <td>7</td>\n",
       "      <td>35.0</td>\n",
       "      <td>50000.0</td>\n",
       "      <td>Houston</td>\n",
       "      <td>Female</td>\n",
       "      <td>2951</td>\n",
       "      <td>2022-01-07</td>\n",
       "      <td>Widowed</td>\n",
       "      <td>Master</td>\n",
       "      <td>Houston</td>\n",
       "    </tr>\n",
       "    <tr>\n",
       "      <th>7</th>\n",
       "      <td>8</td>\n",
       "      <td>35.0</td>\n",
       "      <td>50000.0</td>\n",
       "      <td>Houston</td>\n",
       "      <td>nan</td>\n",
       "      <td>1736</td>\n",
       "      <td>2022-01-08</td>\n",
       "      <td>Married</td>\n",
       "      <td>PhD</td>\n",
       "      <td>Houston</td>\n",
       "    </tr>\n",
       "    <tr>\n",
       "      <th>8</th>\n",
       "      <td>9</td>\n",
       "      <td>35.0</td>\n",
       "      <td>30000.0</td>\n",
       "      <td>nan</td>\n",
       "      <td>Female</td>\n",
       "      <td>3059</td>\n",
       "      <td>2022-01-09</td>\n",
       "      <td>Widowed</td>\n",
       "      <td>High School</td>\n",
       "      <td>nan</td>\n",
       "    </tr>\n",
       "    <tr>\n",
       "      <th>9</th>\n",
       "      <td>10</td>\n",
       "      <td>45.0</td>\n",
       "      <td>50000.0</td>\n",
       "      <td>Los Angeles</td>\n",
       "      <td>Female</td>\n",
       "      <td>204</td>\n",
       "      <td>2022-01-10</td>\n",
       "      <td>Married</td>\n",
       "      <td>PhD</td>\n",
       "      <td>Los Angeles</td>\n",
       "    </tr>\n",
       "    <tr>\n",
       "      <th>...</th>\n",
       "      <td>...</td>\n",
       "      <td>...</td>\n",
       "      <td>...</td>\n",
       "      <td>...</td>\n",
       "      <td>...</td>\n",
       "      <td>...</td>\n",
       "      <td>...</td>\n",
       "      <td>...</td>\n",
       "      <td>...</td>\n",
       "      <td>...</td>\n",
       "    </tr>\n",
       "    <tr>\n",
       "      <th>100</th>\n",
       "      <td>1</td>\n",
       "      <td>40.0</td>\n",
       "      <td>70000.0</td>\n",
       "      <td>New York</td>\n",
       "      <td>nan</td>\n",
       "      <td>619</td>\n",
       "      <td>2022-01-01</td>\n",
       "      <td>Widowed</td>\n",
       "      <td>PhD</td>\n",
       "      <td>New York</td>\n",
       "    </tr>\n",
       "    <tr>\n",
       "      <th>101</th>\n",
       "      <td>2</td>\n",
       "      <td>45.0</td>\n",
       "      <td>30000.0</td>\n",
       "      <td>Houston</td>\n",
       "      <td>Female</td>\n",
       "      <td>1945</td>\n",
       "      <td>2022-01-02</td>\n",
       "      <td>Single</td>\n",
       "      <td>PhD</td>\n",
       "      <td>Houston</td>\n",
       "    </tr>\n",
       "    <tr>\n",
       "      <th>102</th>\n",
       "      <td>3</td>\n",
       "      <td>35.0</td>\n",
       "      <td>30000.0</td>\n",
       "      <td>New York</td>\n",
       "      <td>Male</td>\n",
       "      <td>2783</td>\n",
       "      <td>2022-01-03</td>\n",
       "      <td>nan</td>\n",
       "      <td>Master</td>\n",
       "      <td>New York</td>\n",
       "    </tr>\n",
       "    <tr>\n",
       "      <th>103</th>\n",
       "      <td>4</td>\n",
       "      <td>45.0</td>\n",
       "      <td>30000.0</td>\n",
       "      <td>nan</td>\n",
       "      <td>Other</td>\n",
       "      <td>3913</td>\n",
       "      <td>2022-01-04</td>\n",
       "      <td>Married</td>\n",
       "      <td>Bachelor</td>\n",
       "      <td>nan</td>\n",
       "    </tr>\n",
       "    <tr>\n",
       "      <th>104</th>\n",
       "      <td>5</td>\n",
       "      <td>45.0</td>\n",
       "      <td>30000.0</td>\n",
       "      <td>New York</td>\n",
       "      <td>Male</td>\n",
       "      <td>4771</td>\n",
       "      <td>2022-01-05</td>\n",
       "      <td>Married</td>\n",
       "      <td>nan</td>\n",
       "      <td>New York</td>\n",
       "    </tr>\n",
       "  </tbody>\n",
       "</table>\n",
       "<p>100 rows × 10 columns</p>\n",
       "</div>"
      ],
      "text/plain": [
       "     Customer_ID   Age     Salary         City  Gender  Purchase_Amount  \\\n",
       "5              6  30.0  1000000.0  Los Angeles    Male             4064   \n",
       "6              7  35.0    50000.0      Houston  Female             2951   \n",
       "7              8  35.0    50000.0      Houston     nan             1736   \n",
       "8              9  35.0    30000.0          nan  Female             3059   \n",
       "9             10  45.0    50000.0  Los Angeles  Female              204   \n",
       "..           ...   ...        ...          ...     ...              ...   \n",
       "100            1  40.0    70000.0     New York     nan              619   \n",
       "101            2  45.0    30000.0      Houston  Female             1945   \n",
       "102            3  35.0    30000.0     New York    Male             2783   \n",
       "103            4  45.0    30000.0          nan   Other             3913   \n",
       "104            5  45.0    30000.0     New York    Male             4771   \n",
       "\n",
       "    Signup_Date Marital_Status    Education City_Simp_Imp  \n",
       "5    2022-01-06            nan          nan   Los Angeles  \n",
       "6    2022-01-07        Widowed       Master       Houston  \n",
       "7    2022-01-08        Married          PhD       Houston  \n",
       "8    2022-01-09        Widowed  High School           nan  \n",
       "9    2022-01-10        Married          PhD   Los Angeles  \n",
       "..          ...            ...          ...           ...  \n",
       "100  2022-01-01        Widowed          PhD      New York  \n",
       "101  2022-01-02         Single          PhD       Houston  \n",
       "102  2022-01-03            nan       Master      New York  \n",
       "103  2022-01-04        Married     Bachelor           nan  \n",
       "104  2022-01-05        Married          nan      New York  \n",
       "\n",
       "[100 rows x 10 columns]"
      ]
     },
     "execution_count": 252,
     "metadata": {},
     "output_type": "execute_result"
    }
   ],
   "source": [
    "data.drop_duplicates(keep='last')\n"
   ]
  },
  {
   "cell_type": "code",
   "execution_count": null,
   "metadata": {},
   "outputs": [
    {
     "name": "stdout",
     "output_type": "stream",
     "text": [
      "<class 'pandas.core.frame.DataFrame'>\n",
      "RangeIndex: 105 entries, 0 to 104\n",
      "Data columns (total 10 columns):\n",
      " #   Column           Non-Null Count  Dtype  \n",
      "---  ------           --------------  -----  \n",
      " 0   Customer_ID      105 non-null    int64  \n",
      " 1   Age              105 non-null    float64\n",
      " 2   Salary           105 non-null    float64\n",
      " 3   City             105 non-null    object \n",
      " 4   Gender           105 non-null    object \n",
      " 5   Purchase_Amount  105 non-null    int64  \n",
      " 6   Signup_Date      105 non-null    object \n",
      " 7   Marital_Status   105 non-null    object \n",
      " 8   Education        105 non-null    object \n",
      " 9   City_Simp_Imp    105 non-null    object \n",
      "dtypes: float64(2), int64(2), object(6)\n",
      "memory usage: 8.3+ KB\n"
     ]
    }
   ],
   "source": [
    "data.info()"
   ]
  },
  {
   "cell_type": "markdown",
   "metadata": {},
   "source": [
    "In this case we are to not drop the duplicates because of the Customer_ID column as we cannot have more than one instance"
   ]
  },
  {
   "cell_type": "code",
   "execution_count": null,
   "metadata": {},
   "outputs": [
    {
     "name": "stdout",
     "output_type": "stream",
     "text": [
      "['PhD' 'Master' 'Bachelor' 'nan' 'High School']\n"
     ]
    }
   ],
   "source": [
    "data['Education'] = data['Education'].replace('bachelor', 'Bachelor')\n",
    "print(data['Education'].unique())\n"
   ]
  },
  {
   "cell_type": "markdown",
   "metadata": {},
   "source": [
    "### 4.  Outlier Detection and Handling\n",
    "\n",
    "* Identify the outliers in the `Salary` and `Purchase_Amount` columns using both the Interquartile Range (IQR) Method and Z-score Method. How do the results compare? Propose a suitable strategy for handling these outliers."
   ]
  },
  {
   "cell_type": "markdown",
   "metadata": {},
   "source": [
    "Outlier detection and handling can be done using various methods, such as the Z-score method, the IQR method, or using machine learning algorithms."
   ]
  },
  {
   "cell_type": "code",
   "execution_count": null,
   "metadata": {},
   "outputs": [
    {
     "name": "stdout",
     "output_type": "stream",
     "text": [
      "Outliers detected using Z-score method:\n",
      "    Age     Salary  Purchase_Amount\n",
      "5  30.0  1000000.0             4064\n",
      "\n",
      "Data after removing outliers using Z-score method:\n",
      "    Age   Salary  Purchase_Amount\n",
      "0  40.0  70000.0              619\n",
      "1  45.0  30000.0             1945\n",
      "2  35.0  30000.0             2783\n",
      "3  45.0  30000.0             3913\n",
      "4  45.0  30000.0             4771\n"
     ]
    }
   ],
   "source": [
    "# Calculate Z-scores\n",
    "numerical_data = data[['Age', 'Salary', 'Purchase_Amount']]\n",
    "z_scores = np.abs(stats.zscore(numerical_data))\n",
    "\n",
    "# Define a threshold for identifying outliers\n",
    "threshold = 3\n",
    "\n",
    "# Identify outliers\n",
    "outliers = np.where(z_scores > threshold)\n",
    "\n",
    "# Print outliers\n",
    "print(\"Outliers detected using Z-score method:\")\n",
    "print(numerical_data.iloc[outliers[0]])\n",
    "\n",
    "# Remove outliers\n",
    "data_cleaned = numerical_data[(z_scores < threshold).all(axis=1)]\n",
    "\n",
    "print(\"\\nData after removing outliers using Z-score method:\")\n",
    "print(data_cleaned.head())"
   ]
  },
  {
   "cell_type": "code",
   "execution_count": null,
   "metadata": {},
   "outputs": [
    {
     "name": "stdout",
     "output_type": "stream",
     "text": [
      "Outliers detected using IQR method:\n",
      "    Age     Salary  Purchase_Amount\n",
      "5  30.0  1000000.0             4064\n",
      "\n",
      "Data after removing outliers using IQR method:\n",
      "    Age   Salary  Purchase_Amount\n",
      "0  40.0  70000.0              619\n",
      "1  45.0  30000.0             1945\n",
      "2  35.0  30000.0             2783\n",
      "3  45.0  30000.0             3913\n",
      "4  45.0  30000.0             4771\n"
     ]
    }
   ],
   "source": [
    "numerical_data = data[['Age', 'Salary', 'Purchase_Amount']]\n",
    "\n",
    "\n",
    "# Calculate Q1 (25th percentile) and Q3 (75th percentile)\n",
    "Q1 = numerical_data.quantile(0.25)\n",
    "Q3 = numerical_data.quantile(0.75)\n",
    "\n",
    "# Calculate IQR\n",
    "IQR = Q3 - Q1\n",
    "\n",
    "# Identify outliers\n",
    "outliers = ((numerical_data < (Q1 - 1.5 * IQR)) | (numerical_data > (Q3 + 1.5 * IQR))).any(axis=1)\n",
    "\n",
    "# Print outliers\n",
    "print(\"Outliers detected using IQR method:\")\n",
    "print(numerical_data[outliers])\n",
    "\n",
    "# Remove outliers\n",
    "data_cleaned = numerical_data[~outliers]\n",
    "\n",
    "print(\"\\nData after removing outliers using IQR method:\")\n",
    "print(data_cleaned.head())"
   ]
  },
  {
   "cell_type": "markdown",
   "metadata": {},
   "source": [
    "### 5. Feature Engineering: Age Groups\n",
    "\n",
    "* Create a new column, Age_Group, that categorizes customers into age groups: `Young (18-30)`, `Middle-Aged (31-50)`, and `Senior (51 and above)`. Provide a visualization that shows the distribution of customers by age group."
   ]
  },
  {
   "cell_type": "code",
   "execution_count": null,
   "metadata": {},
   "outputs": [
    {
     "data": {
      "text/html": [
       "<div>\n",
       "<style scoped>\n",
       "    .dataframe tbody tr th:only-of-type {\n",
       "        vertical-align: middle;\n",
       "    }\n",
       "\n",
       "    .dataframe tbody tr th {\n",
       "        vertical-align: top;\n",
       "    }\n",
       "\n",
       "    .dataframe thead th {\n",
       "        text-align: right;\n",
       "    }\n",
       "</style>\n",
       "<table border=\"1\" class=\"dataframe\">\n",
       "  <thead>\n",
       "    <tr style=\"text-align: right;\">\n",
       "      <th></th>\n",
       "      <th>Customer_ID</th>\n",
       "      <th>Age</th>\n",
       "      <th>Salary</th>\n",
       "      <th>City</th>\n",
       "      <th>Gender</th>\n",
       "      <th>Purchase_Amount</th>\n",
       "      <th>Signup_Date</th>\n",
       "      <th>Marital_Status</th>\n",
       "      <th>Education</th>\n",
       "      <th>City_Simp_Imp</th>\n",
       "      <th>Age Group</th>\n",
       "    </tr>\n",
       "  </thead>\n",
       "  <tbody>\n",
       "    <tr>\n",
       "      <th>0</th>\n",
       "      <td>1</td>\n",
       "      <td>40.0</td>\n",
       "      <td>70000.0</td>\n",
       "      <td>New York</td>\n",
       "      <td>nan</td>\n",
       "      <td>619</td>\n",
       "      <td>2022-01-01</td>\n",
       "      <td>Widowed</td>\n",
       "      <td>PhD</td>\n",
       "      <td>New York</td>\n",
       "      <td>Middle-Aged</td>\n",
       "    </tr>\n",
       "    <tr>\n",
       "      <th>1</th>\n",
       "      <td>2</td>\n",
       "      <td>45.0</td>\n",
       "      <td>30000.0</td>\n",
       "      <td>Houston</td>\n",
       "      <td>Female</td>\n",
       "      <td>1945</td>\n",
       "      <td>2022-01-02</td>\n",
       "      <td>Single</td>\n",
       "      <td>PhD</td>\n",
       "      <td>Houston</td>\n",
       "      <td>Middle-Aged</td>\n",
       "    </tr>\n",
       "    <tr>\n",
       "      <th>2</th>\n",
       "      <td>3</td>\n",
       "      <td>35.0</td>\n",
       "      <td>30000.0</td>\n",
       "      <td>New York</td>\n",
       "      <td>Male</td>\n",
       "      <td>2783</td>\n",
       "      <td>2022-01-03</td>\n",
       "      <td>nan</td>\n",
       "      <td>Master</td>\n",
       "      <td>New York</td>\n",
       "      <td>Middle-Aged</td>\n",
       "    </tr>\n",
       "    <tr>\n",
       "      <th>3</th>\n",
       "      <td>4</td>\n",
       "      <td>45.0</td>\n",
       "      <td>30000.0</td>\n",
       "      <td>nan</td>\n",
       "      <td>Other</td>\n",
       "      <td>3913</td>\n",
       "      <td>2022-01-04</td>\n",
       "      <td>Married</td>\n",
       "      <td>Bachelor</td>\n",
       "      <td>nan</td>\n",
       "      <td>Middle-Aged</td>\n",
       "    </tr>\n",
       "    <tr>\n",
       "      <th>4</th>\n",
       "      <td>5</td>\n",
       "      <td>45.0</td>\n",
       "      <td>30000.0</td>\n",
       "      <td>New York</td>\n",
       "      <td>Male</td>\n",
       "      <td>4771</td>\n",
       "      <td>2022-01-05</td>\n",
       "      <td>Married</td>\n",
       "      <td>nan</td>\n",
       "      <td>New York</td>\n",
       "      <td>Middle-Aged</td>\n",
       "    </tr>\n",
       "  </tbody>\n",
       "</table>\n",
       "</div>"
      ],
      "text/plain": [
       "   Customer_ID   Age   Salary      City  Gender  Purchase_Amount Signup_Date  \\\n",
       "0            1  40.0  70000.0  New York     nan              619  2022-01-01   \n",
       "1            2  45.0  30000.0   Houston  Female             1945  2022-01-02   \n",
       "2            3  35.0  30000.0  New York    Male             2783  2022-01-03   \n",
       "3            4  45.0  30000.0       nan   Other             3913  2022-01-04   \n",
       "4            5  45.0  30000.0  New York    Male             4771  2022-01-05   \n",
       "\n",
       "  Marital_Status Education City_Simp_Imp    Age Group  \n",
       "0        Widowed       PhD      New York  Middle-Aged  \n",
       "1         Single       PhD       Houston  Middle-Aged  \n",
       "2            nan    Master      New York  Middle-Aged  \n",
       "3        Married  Bachelor           nan  Middle-Aged  \n",
       "4        Married       nan      New York  Middle-Aged  "
      ]
     },
     "execution_count": 257,
     "metadata": {},
     "output_type": "execute_result"
    }
   ],
   "source": [
    "# Define age bins and labels\n",
    "\n",
    "bins = [18, 31, 51, 100]\n",
    "labels = ['Young', 'Middle-Aged', 'Senior']\n",
    "\n",
    "# Create age groups\n",
    "data['Age Group'] = pd.cut(data['Age'], bins=bins, labels=labels, right=False)\n",
    "\n",
    "data.head()"
   ]
  },
  {
   "cell_type": "markdown",
   "metadata": {},
   "source": [
    "### 6. Data Transformation\n",
    "* Normalize the `Purchase_Amount` column using both Min-Max Scaling and Standardization (Z-score Normalization). Plot histograms before and after transformation to illustrate the effects.\n"
   ]
  },
  {
   "cell_type": "code",
   "execution_count": null,
   "metadata": {},
   "outputs": [
    {
     "name": "stderr",
     "output_type": "stream",
     "text": [
      "C:\\Users\\CAPACITI-JHB\\AppData\\Local\\Temp\\ipykernel_12264\\838772254.py:12: SettingWithCopyWarning: \n",
      "A value is trying to be set on a copy of a slice from a DataFrame.\n",
      "Try using .loc[row_indexer,col_indexer] = value instead\n",
      "\n",
      "See the caveats in the documentation: https://pandas.pydata.org/pandas-docs/stable/user_guide/indexing.html#returning-a-view-versus-a-copy\n",
      "  p_data['Purchase_Amount_MinMax'] = min_max_scaler.fit_transform(p_data['Purchase_Amount'].values.reshape(-1, 1))\n",
      "C:\\Users\\CAPACITI-JHB\\AppData\\Local\\Temp\\ipykernel_12264\\838772254.py:23: SettingWithCopyWarning: \n",
      "A value is trying to be set on a copy of a slice from a DataFrame.\n",
      "Try using .loc[row_indexer,col_indexer] = value instead\n",
      "\n",
      "See the caveats in the documentation: https://pandas.pydata.org/pandas-docs/stable/user_guide/indexing.html#returning-a-view-versus-a-copy\n",
      "  p_data['Purchase_Amount_Standard'] = standard_scaler.fit_transform(p_data[['Purchase_Amount']])\n"
     ]
    },
    {
     "data": {
      "image/png": "[encoded data removed]",
      "text/plain": [
       "<Figure size 1200x600 with 3 Axes>"
      ]
     },
     "metadata": {},
     "output_type": "display_data"
    },
    {
     "data": {
      "text/html": [
       "<div>\n",
       "<style scoped>\n",
       "    .dataframe tbody tr th:only-of-type {\n",
       "        vertical-align: middle;\n",
       "    }\n",
       "\n",
       "    .dataframe tbody tr th {\n",
       "        vertical-align: top;\n",
       "    }\n",
       "\n",
       "    .dataframe thead th {\n",
       "        text-align: right;\n",
       "    }\n",
       "</style>\n",
       "<table border=\"1\" class=\"dataframe\">\n",
       "  <thead>\n",
       "    <tr style=\"text-align: right;\">\n",
       "      <th></th>\n",
       "      <th>Customer_ID</th>\n",
       "      <th>Purchase_Amount</th>\n",
       "      <th>Purchase_Amount_MinMax</th>\n",
       "      <th>Purchase_Amount_Standard</th>\n",
       "    </tr>\n",
       "  </thead>\n",
       "  <tbody>\n",
       "    <tr>\n",
       "      <th>0</th>\n",
       "      <td>1</td>\n",
       "      <td>619</td>\n",
       "      <td>0.114628</td>\n",
       "      <td>-1.431984</td>\n",
       "    </tr>\n",
       "    <tr>\n",
       "      <th>1</th>\n",
       "      <td>2</td>\n",
       "      <td>1945</td>\n",
       "      <td>0.383648</td>\n",
       "      <td>-0.513162</td>\n",
       "    </tr>\n",
       "    <tr>\n",
       "      <th>2</th>\n",
       "      <td>3</td>\n",
       "      <td>2783</td>\n",
       "      <td>0.553662</td>\n",
       "      <td>0.067511</td>\n",
       "    </tr>\n",
       "    <tr>\n",
       "      <th>3</th>\n",
       "      <td>4</td>\n",
       "      <td>3913</td>\n",
       "      <td>0.782917</td>\n",
       "      <td>0.850519</td>\n",
       "    </tr>\n",
       "    <tr>\n",
       "      <th>4</th>\n",
       "      <td>5</td>\n",
       "      <td>4771</td>\n",
       "      <td>0.956989</td>\n",
       "      <td>1.445050</td>\n",
       "    </tr>\n",
       "  </tbody>\n",
       "</table>\n",
       "</div>"
      ],
      "text/plain": [
       "   Customer_ID  Purchase_Amount  Purchase_Amount_MinMax  \\\n",
       "0            1              619                0.114628   \n",
       "1            2             1945                0.383648   \n",
       "2            3             2783                0.553662   \n",
       "3            4             3913                0.782917   \n",
       "4            5             4771                0.956989   \n",
       "\n",
       "   Purchase_Amount_Standard  \n",
       "0                 -1.431984  \n",
       "1                 -0.513162  \n",
       "2                  0.067511  \n",
       "3                  0.850519  \n",
       "4                  1.445050  "
      ]
     },
     "execution_count": 258,
     "metadata": {},
     "output_type": "execute_result"
    }
   ],
   "source": [
    "# Plot histogram before transformation\n",
    "plt.figure(figsize=(12, 6))\n",
    "plt.subplot(1, 3, 1)\n",
    "plt.hist(data['Purchase_Amount'], bins=10, edgecolor='k')\n",
    "plt.title('Before Transformation')\n",
    "plt.xlabel('Purchase_Amount')\n",
    "plt.ylabel('Frequency')\n",
    "\n",
    "p_data = data[['Customer_ID', 'Purchase_Amount']]\n",
    "# Min-Max Scaling\n",
    "min_max_scaler = MinMaxScaler()\n",
    "p_data['Purchase_Amount_MinMax'] = min_max_scaler.fit_transform(p_data['Purchase_Amount'].values.reshape(-1, 1))\n",
    "\n",
    "# Plot histogram after Min-Max Scaling\n",
    "plt.subplot(1, 3, 2)\n",
    "plt.hist(p_data['Purchase_Amount_MinMax'], bins=10, edgecolor='k')\n",
    "plt.title('After Min-Max Scaling')\n",
    "plt.xlabel('Purchase_Amount_MinMax')\n",
    "plt.ylabel('Frequency')\n",
    "\n",
    "# Standardization (Z-score Normalization)\n",
    "standard_scaler = StandardScaler()\n",
    "p_data['Purchase_Amount_Standard'] = standard_scaler.fit_transform(p_data[['Purchase_Amount']])\n",
    "\n",
    "# Plot histogram after Standardization\n",
    "plt.subplot(1, 3, 3)\n",
    "plt.hist(p_data['Purchase_Amount_Standard'], bins=10, edgecolor='k')\n",
    "plt.title('After Standardization')\n",
    "plt.xlabel('Purchase_Amount_Standard')\n",
    "plt.ylabel('Frequency')\n",
    "\n",
    "plt.tight_layout()\n",
    "plt.show()\n",
    "\n",
    "p_data.head()"
   ]
  },
  {
   "cell_type": "markdown",
   "metadata": {},
   "source": [
    "### 7. Encoding Categorical Variables\n",
    "* Convert all categorical columns into numerical format using three different encoding techniques: One-Hot Encoding, Label Encoding, and Target Encoding. Compare the impact of each method.\n"
   ]
  },
  {
   "cell_type": "code",
   "execution_count": null,
   "metadata": {},
   "outputs": [],
   "source": [
    "categorical_data = data[['City', 'Gender', 'Marital_Status', 'Education']]"
   ]
  },
  {
   "cell_type": "markdown",
   "metadata": {},
   "source": [
    "#### 7.1 One-Hot Encoding"
   ]
  },
  {
   "cell_type": "code",
   "execution_count": null,
   "metadata": {},
   "outputs": [
    {
     "data": {
      "text/html": [
       "<div>\n",
       "<style scoped>\n",
       "    .dataframe tbody tr th:only-of-type {\n",
       "        vertical-align: middle;\n",
       "    }\n",
       "\n",
       "    .dataframe tbody tr th {\n",
       "        vertical-align: top;\n",
       "    }\n",
       "\n",
       "    .dataframe thead th {\n",
       "        text-align: right;\n",
       "    }\n",
       "</style>\n",
       "<table border=\"1\" class=\"dataframe\">\n",
       "  <thead>\n",
       "    <tr style=\"text-align: right;\">\n",
       "      <th></th>\n",
       "      <th>Gender</th>\n",
       "      <th>Marital_Status</th>\n",
       "      <th>Education</th>\n",
       "      <th>City_Chicago</th>\n",
       "      <th>City_Houston</th>\n",
       "      <th>City_Los Angeles</th>\n",
       "      <th>City_New York</th>\n",
       "      <th>City_New-York</th>\n",
       "      <th>City_Phoenix</th>\n",
       "      <th>City_nan</th>\n",
       "    </tr>\n",
       "  </thead>\n",
       "  <tbody>\n",
       "    <tr>\n",
       "      <th>0</th>\n",
       "      <td>nan</td>\n",
       "      <td>Widowed</td>\n",
       "      <td>PhD</td>\n",
       "      <td>False</td>\n",
       "      <td>False</td>\n",
       "      <td>False</td>\n",
       "      <td>True</td>\n",
       "      <td>False</td>\n",
       "      <td>False</td>\n",
       "      <td>False</td>\n",
       "    </tr>\n",
       "    <tr>\n",
       "      <th>1</th>\n",
       "      <td>Female</td>\n",
       "      <td>Single</td>\n",
       "      <td>PhD</td>\n",
       "      <td>False</td>\n",
       "      <td>True</td>\n",
       "      <td>False</td>\n",
       "      <td>False</td>\n",
       "      <td>False</td>\n",
       "      <td>False</td>\n",
       "      <td>False</td>\n",
       "    </tr>\n",
       "    <tr>\n",
       "      <th>2</th>\n",
       "      <td>Male</td>\n",
       "      <td>nan</td>\n",
       "      <td>Master</td>\n",
       "      <td>False</td>\n",
       "      <td>False</td>\n",
       "      <td>False</td>\n",
       "      <td>True</td>\n",
       "      <td>False</td>\n",
       "      <td>False</td>\n",
       "      <td>False</td>\n",
       "    </tr>\n",
       "    <tr>\n",
       "      <th>3</th>\n",
       "      <td>Other</td>\n",
       "      <td>Married</td>\n",
       "      <td>Bachelor</td>\n",
       "      <td>False</td>\n",
       "      <td>False</td>\n",
       "      <td>False</td>\n",
       "      <td>False</td>\n",
       "      <td>False</td>\n",
       "      <td>False</td>\n",
       "      <td>True</td>\n",
       "    </tr>\n",
       "    <tr>\n",
       "      <th>4</th>\n",
       "      <td>Male</td>\n",
       "      <td>Married</td>\n",
       "      <td>nan</td>\n",
       "      <td>False</td>\n",
       "      <td>False</td>\n",
       "      <td>False</td>\n",
       "      <td>True</td>\n",
       "      <td>False</td>\n",
       "      <td>False</td>\n",
       "      <td>False</td>\n",
       "    </tr>\n",
       "  </tbody>\n",
       "</table>\n",
       "</div>"
      ],
      "text/plain": [
       "   Gender Marital_Status Education  City_Chicago  City_Houston  \\\n",
       "0     nan        Widowed       PhD         False         False   \n",
       "1  Female         Single       PhD         False          True   \n",
       "2    Male            nan    Master         False         False   \n",
       "3   Other        Married  Bachelor         False         False   \n",
       "4    Male        Married       nan         False         False   \n",
       "\n",
       "   City_Los Angeles  City_New York  City_New-York  City_Phoenix  City_nan  \n",
       "0             False           True          False         False     False  \n",
       "1             False          False          False         False     False  \n",
       "2             False           True          False         False     False  \n",
       "3             False          False          False         False      True  \n",
       "4             False           True          False         False     False  "
      ]
     },
     "execution_count": 260,
     "metadata": {},
     "output_type": "execute_result"
    }
   ],
   "source": [
    "# One-Hot Encoding\n",
    "data_one_hot = pd.get_dummies(categorical_data, columns=['City'])\n",
    "data_one_hot.head()"
   ]
  },
  {
   "cell_type": "markdown",
   "metadata": {},
   "source": [
    "#### 7.2 Label Encoding "
   ]
  },
  {
   "cell_type": "code",
   "execution_count": null,
   "metadata": {},
   "outputs": [
    {
     "name": "stderr",
     "output_type": "stream",
     "text": [
      "C:\\Users\\CAPACITI-JHB\\AppData\\Local\\Temp\\ipykernel_12264\\4202678014.py:3: SettingWithCopyWarning: \n",
      "A value is trying to be set on a copy of a slice from a DataFrame.\n",
      "Try using .loc[row_indexer,col_indexer] = value instead\n",
      "\n",
      "See the caveats in the documentation: https://pandas.pydata.org/pandas-docs/stable/user_guide/indexing.html#returning-a-view-versus-a-copy\n",
      "  categorical_data['City_Label'] = label_encoder.fit_transform(categorical_data['City'])\n"
     ]
    },
    {
     "data": {
      "text/html": [
       "<div>\n",
       "<style scoped>\n",
       "    .dataframe tbody tr th:only-of-type {\n",
       "        vertical-align: middle;\n",
       "    }\n",
       "\n",
       "    .dataframe tbody tr th {\n",
       "        vertical-align: top;\n",
       "    }\n",
       "\n",
       "    .dataframe thead th {\n",
       "        text-align: right;\n",
       "    }\n",
       "</style>\n",
       "<table border=\"1\" class=\"dataframe\">\n",
       "  <thead>\n",
       "    <tr style=\"text-align: right;\">\n",
       "      <th></th>\n",
       "      <th>City</th>\n",
       "      <th>Gender</th>\n",
       "      <th>Marital_Status</th>\n",
       "      <th>Education</th>\n",
       "      <th>City_Label</th>\n",
       "    </tr>\n",
       "  </thead>\n",
       "  <tbody>\n",
       "    <tr>\n",
       "      <th>0</th>\n",
       "      <td>New York</td>\n",
       "      <td>nan</td>\n",
       "      <td>Widowed</td>\n",
       "      <td>PhD</td>\n",
       "      <td>3</td>\n",
       "    </tr>\n",
       "    <tr>\n",
       "      <th>1</th>\n",
       "      <td>Houston</td>\n",
       "      <td>Female</td>\n",
       "      <td>Single</td>\n",
       "      <td>PhD</td>\n",
       "      <td>1</td>\n",
       "    </tr>\n",
       "    <tr>\n",
       "      <th>2</th>\n",
       "      <td>New York</td>\n",
       "      <td>Male</td>\n",
       "      <td>nan</td>\n",
       "      <td>Master</td>\n",
       "      <td>3</td>\n",
       "    </tr>\n",
       "    <tr>\n",
       "      <th>3</th>\n",
       "      <td>nan</td>\n",
       "      <td>Other</td>\n",
       "      <td>Married</td>\n",
       "      <td>Bachelor</td>\n",
       "      <td>6</td>\n",
       "    </tr>\n",
       "    <tr>\n",
       "      <th>4</th>\n",
       "      <td>New York</td>\n",
       "      <td>Male</td>\n",
       "      <td>Married</td>\n",
       "      <td>nan</td>\n",
       "      <td>3</td>\n",
       "    </tr>\n",
       "  </tbody>\n",
       "</table>\n",
       "</div>"
      ],
      "text/plain": [
       "       City  Gender Marital_Status Education  City_Label\n",
       "0  New York     nan        Widowed       PhD           3\n",
       "1   Houston  Female         Single       PhD           1\n",
       "2  New York    Male            nan    Master           3\n",
       "3       nan   Other        Married  Bachelor           6\n",
       "4  New York    Male        Married       nan           3"
      ]
     },
     "execution_count": 261,
     "metadata": {},
     "output_type": "execute_result"
    }
   ],
   "source": [
    "# Label Encoding\n",
    "label_encoder = LabelEncoder()\n",
    "categorical_data['City_Label'] = label_encoder.fit_transform(categorical_data['City'])\n",
    "categorical_data.head()"
   ]
  },
  {
   "cell_type": "markdown",
   "metadata": {},
   "source": [
    "#### 7.3 Target Encoding"
   ]
  },
  {
   "cell_type": "code",
   "execution_count": null,
   "metadata": {},
   "outputs": [
    {
     "name": "stdout",
     "output_type": "stream",
     "text": [
      "         City  Gender Marital_Status Education  City_Label  City_Target\n",
      "0    New York     nan        Widowed       PhD           3          3.0\n",
      "1     Houston  Female         Single       PhD           1          1.0\n",
      "2    New York    Male            nan    Master           3          3.0\n",
      "3         nan   Other        Married  Bachelor           6          6.0\n",
      "4    New York    Male        Married       nan           3          3.0\n",
      "..        ...     ...            ...       ...         ...          ...\n",
      "100  New York     nan        Widowed       PhD           3          3.0\n",
      "101   Houston  Female         Single       PhD           1          1.0\n",
      "102  New York    Male            nan    Master           3          3.0\n",
      "103       nan   Other        Married  Bachelor           6          6.0\n",
      "104  New York    Male        Married       nan           3          3.0\n",
      "\n",
      "[105 rows x 6 columns]\n"
     ]
    },
    {
     "name": "stderr",
     "output_type": "stream",
     "text": [
      "C:\\Users\\CAPACITI-JHB\\AppData\\Local\\Temp\\ipykernel_12264\\1095168488.py:4: SettingWithCopyWarning: \n",
      "A value is trying to be set on a copy of a slice from a DataFrame.\n",
      "Try using .loc[row_indexer,col_indexer] = value instead\n",
      "\n",
      "See the caveats in the documentation: https://pandas.pydata.org/pandas-docs/stable/user_guide/indexing.html#returning-a-view-versus-a-copy\n",
      "  categorical_data['City_Target'] = categorical_data['City'].map(target_mean)\n"
     ]
    }
   ],
   "source": [
    "target_mean = categorical_data.groupby('City')['City_Label'].mean()\n",
    "\n",
    "# Map the mean target to the original DataFrame\n",
    "categorical_data['City_Target'] = categorical_data['City'].map(target_mean)\n",
    "print(categorical_data)"
   ]
  },
  {
   "cell_type": "markdown",
   "metadata": {},
   "source": [
    "### 8. Data Integrity Check\n",
    "* Write a function to detect and correct inconsistencies in the `Marital_Status` and `Education` columns. Document the issues you find and justify the correction methods used.\n"
   ]
  },
  {
   "cell_type": "code",
   "execution_count": null,
   "metadata": {},
   "outputs": [
    {
     "data": {
      "text/html": [
       "<div>\n",
       "<style scoped>\n",
       "    .dataframe tbody tr th:only-of-type {\n",
       "        vertical-align: middle;\n",
       "    }\n",
       "\n",
       "    .dataframe tbody tr th {\n",
       "        vertical-align: top;\n",
       "    }\n",
       "\n",
       "    .dataframe thead th {\n",
       "        text-align: right;\n",
       "    }\n",
       "</style>\n",
       "<table border=\"1\" class=\"dataframe\">\n",
       "  <thead>\n",
       "    <tr style=\"text-align: right;\">\n",
       "      <th></th>\n",
       "      <th>Customer_ID</th>\n",
       "      <th>Age</th>\n",
       "      <th>Salary</th>\n",
       "      <th>City</th>\n",
       "      <th>Gender</th>\n",
       "      <th>Purchase_Amount</th>\n",
       "      <th>Signup_Date</th>\n",
       "      <th>Marital_Status</th>\n",
       "      <th>Education</th>\n",
       "      <th>City_Simp_Imp</th>\n",
       "      <th>Age Group</th>\n",
       "    </tr>\n",
       "  </thead>\n",
       "  <tbody>\n",
       "    <tr>\n",
       "      <th>0</th>\n",
       "      <td>1</td>\n",
       "      <td>40.0</td>\n",
       "      <td>70000.0</td>\n",
       "      <td>New York</td>\n",
       "      <td>nan</td>\n",
       "      <td>619</td>\n",
       "      <td>2022-01-01</td>\n",
       "      <td>Widowed</td>\n",
       "      <td>PhD</td>\n",
       "      <td>New York</td>\n",
       "      <td>Middle-Aged</td>\n",
       "    </tr>\n",
       "    <tr>\n",
       "      <th>1</th>\n",
       "      <td>2</td>\n",
       "      <td>45.0</td>\n",
       "      <td>30000.0</td>\n",
       "      <td>Houston</td>\n",
       "      <td>Female</td>\n",
       "      <td>1945</td>\n",
       "      <td>2022-01-02</td>\n",
       "      <td>Single</td>\n",
       "      <td>PhD</td>\n",
       "      <td>Houston</td>\n",
       "      <td>Middle-Aged</td>\n",
       "    </tr>\n",
       "    <tr>\n",
       "      <th>2</th>\n",
       "      <td>3</td>\n",
       "      <td>35.0</td>\n",
       "      <td>30000.0</td>\n",
       "      <td>New York</td>\n",
       "      <td>Male</td>\n",
       "      <td>2783</td>\n",
       "      <td>2022-01-03</td>\n",
       "      <td>nan</td>\n",
       "      <td>Master</td>\n",
       "      <td>New York</td>\n",
       "      <td>Middle-Aged</td>\n",
       "    </tr>\n",
       "    <tr>\n",
       "      <th>3</th>\n",
       "      <td>4</td>\n",
       "      <td>45.0</td>\n",
       "      <td>30000.0</td>\n",
       "      <td>nan</td>\n",
       "      <td>Other</td>\n",
       "      <td>3913</td>\n",
       "      <td>2022-01-04</td>\n",
       "      <td>Married</td>\n",
       "      <td>Bachelor</td>\n",
       "      <td>nan</td>\n",
       "      <td>Middle-Aged</td>\n",
       "    </tr>\n",
       "    <tr>\n",
       "      <th>4</th>\n",
       "      <td>5</td>\n",
       "      <td>45.0</td>\n",
       "      <td>30000.0</td>\n",
       "      <td>New York</td>\n",
       "      <td>Male</td>\n",
       "      <td>4771</td>\n",
       "      <td>2022-01-05</td>\n",
       "      <td>Married</td>\n",
       "      <td>nan</td>\n",
       "      <td>New York</td>\n",
       "      <td>Middle-Aged</td>\n",
       "    </tr>\n",
       "  </tbody>\n",
       "</table>\n",
       "</div>"
      ],
      "text/plain": [
       "   Customer_ID   Age   Salary      City  Gender  Purchase_Amount Signup_Date  \\\n",
       "0            1  40.0  70000.0  New York     nan              619  2022-01-01   \n",
       "1            2  45.0  30000.0   Houston  Female             1945  2022-01-02   \n",
       "2            3  35.0  30000.0  New York    Male             2783  2022-01-03   \n",
       "3            4  45.0  30000.0       nan   Other             3913  2022-01-04   \n",
       "4            5  45.0  30000.0  New York    Male             4771  2022-01-05   \n",
       "\n",
       "  Marital_Status Education City_Simp_Imp    Age Group  \n",
       "0        Widowed       PhD      New York  Middle-Aged  \n",
       "1         Single       PhD       Houston  Middle-Aged  \n",
       "2            nan    Master      New York  Middle-Aged  \n",
       "3        Married  Bachelor           nan  Middle-Aged  \n",
       "4        Married       nan      New York  Middle-Aged  "
      ]
     },
     "execution_count": 263,
     "metadata": {},
     "output_type": "execute_result"
    }
   ],
   "source": [
    "data.head()"
   ]
  },
  {
   "cell_type": "code",
   "execution_count": null,
   "metadata": {},
   "outputs": [
    {
     "data": {
      "text/plain": [
       "array(['Widowed', 'Single', 'nan', 'Married', 'Divorced'], dtype=object)"
      ]
     },
     "execution_count": 264,
     "metadata": {},
     "output_type": "execute_result"
    }
   ],
   "source": [
    "data['Marital_Status'].unique()"
   ]
  },
  {
   "cell_type": "code",
   "execution_count": null,
   "metadata": {},
   "outputs": [
    {
     "data": {
      "text/plain": [
       "array(['PhD', 'Master', 'Bachelor', 'nan', 'High School'], dtype=object)"
      ]
     },
     "execution_count": 265,
     "metadata": {},
     "output_type": "execute_result"
    }
   ],
   "source": [
    "data['Education'].unique()"
   ]
  },
  {
   "cell_type": "code",
   "execution_count": null,
   "metadata": {},
   "outputs": [
    {
     "data": {
      "text/plain": [
       "array(['PhD', 'Master', 'bachelor', 'nan', 'High School'], dtype=object)"
      ]
     },
     "execution_count": 266,
     "metadata": {},
     "output_type": "execute_result"
    }
   ],
   "source": [
    "data['Education'] = data['Education'].replace('Bachelor', 'bachelor')\n",
    "data['Education'].unique()"
   ]
  },
  {
   "cell_type": "markdown",
   "metadata": {},
   "source": [
    "In the `Marital_Status` column we do not have any inconsistencies.\n",
    "\n",
    "In the `Education` column we have Bachelor and bachelor which are the same but not consistent and that is what we will change to Bachelor to fix the inconsistency."
   ]
  },
  {
   "cell_type": "markdown",
   "metadata": {},
   "source": [
    "### 9. Data Splitting\n",
    "\n",
    "* Split the cleaned dataset into training (70%) and testing (30%) sets while ensuring that the class distributions of categorical variables are preserved. Explain the importance of maintaining the class distribution.\n",
    "\n"
   ]
  },
  {
   "cell_type": "code",
   "execution_count": null,
   "metadata": {},
   "outputs": [
    {
     "name": "stdout",
     "output_type": "stream",
     "text": [
      "Training Set:\n"
     ]
    },
    {
     "data": {
      "text/html": [
       "<div>\n",
       "<style scoped>\n",
       "    .dataframe tbody tr th:only-of-type {\n",
       "        vertical-align: middle;\n",
       "    }\n",
       "\n",
       "    .dataframe tbody tr th {\n",
       "        vertical-align: top;\n",
       "    }\n",
       "\n",
       "    .dataframe thead th {\n",
       "        text-align: right;\n",
       "    }\n",
       "</style>\n",
       "<table border=\"1\" class=\"dataframe\">\n",
       "  <thead>\n",
       "    <tr style=\"text-align: right;\">\n",
       "      <th></th>\n",
       "      <th>Customer_ID</th>\n",
       "      <th>Age</th>\n",
       "      <th>Salary</th>\n",
       "      <th>City</th>\n",
       "      <th>Gender</th>\n",
       "      <th>Purchase_Amount</th>\n",
       "      <th>Signup_Date</th>\n",
       "      <th>Marital_Status</th>\n",
       "      <th>Education</th>\n",
       "      <th>City_Simp_Imp</th>\n",
       "      <th>Age Group</th>\n",
       "    </tr>\n",
       "  </thead>\n",
       "  <tbody>\n",
       "    <tr>\n",
       "      <th>103</th>\n",
       "      <td>4</td>\n",
       "      <td>45.0</td>\n",
       "      <td>30000.000000</td>\n",
       "      <td>nan</td>\n",
       "      <td>Other</td>\n",
       "      <td>3913</td>\n",
       "      <td>2022-01-04</td>\n",
       "      <td>Married</td>\n",
       "      <td>bachelor</td>\n",
       "      <td>nan</td>\n",
       "      <td>Middle-Aged</td>\n",
       "    </tr>\n",
       "    <tr>\n",
       "      <th>78</th>\n",
       "      <td>79</td>\n",
       "      <td>40.0</td>\n",
       "      <td>46666.666667</td>\n",
       "      <td>New York</td>\n",
       "      <td>Male</td>\n",
       "      <td>3393</td>\n",
       "      <td>2022-03-20</td>\n",
       "      <td>nan</td>\n",
       "      <td>High School</td>\n",
       "      <td>New York</td>\n",
       "      <td>Middle-Aged</td>\n",
       "    </tr>\n",
       "    <tr>\n",
       "      <th>28</th>\n",
       "      <td>29</td>\n",
       "      <td>25.0</td>\n",
       "      <td>50000.000000</td>\n",
       "      <td>Houston</td>\n",
       "      <td>Other</td>\n",
       "      <td>2751</td>\n",
       "      <td>2022-01-29</td>\n",
       "      <td>nan</td>\n",
       "      <td>bachelor</td>\n",
       "      <td>Houston</td>\n",
       "      <td>Young</td>\n",
       "    </tr>\n",
       "    <tr>\n",
       "      <th>79</th>\n",
       "      <td>80</td>\n",
       "      <td>30.0</td>\n",
       "      <td>30000.000000</td>\n",
       "      <td>nan</td>\n",
       "      <td>nan</td>\n",
       "      <td>4120</td>\n",
       "      <td>2022-03-21</td>\n",
       "      <td>Widowed</td>\n",
       "      <td>nan</td>\n",
       "      <td>nan</td>\n",
       "      <td>Young</td>\n",
       "    </tr>\n",
       "    <tr>\n",
       "      <th>5</th>\n",
       "      <td>6</td>\n",
       "      <td>30.0</td>\n",
       "      <td>1000000.000000</td>\n",
       "      <td>Los Angeles</td>\n",
       "      <td>Male</td>\n",
       "      <td>4064</td>\n",
       "      <td>2022-01-06</td>\n",
       "      <td>nan</td>\n",
       "      <td>nan</td>\n",
       "      <td>Los Angeles</td>\n",
       "      <td>Young</td>\n",
       "    </tr>\n",
       "  </tbody>\n",
       "</table>\n",
       "</div>"
      ],
      "text/plain": [
       "     Customer_ID   Age          Salary         City Gender  Purchase_Amount  \\\n",
       "103            4  45.0    30000.000000          nan  Other             3913   \n",
       "78            79  40.0    46666.666667     New York   Male             3393   \n",
       "28            29  25.0    50000.000000      Houston  Other             2751   \n",
       "79            80  30.0    30000.000000          nan    nan             4120   \n",
       "5              6  30.0  1000000.000000  Los Angeles   Male             4064   \n",
       "\n",
       "    Signup_Date Marital_Status    Education City_Simp_Imp    Age Group  \n",
       "103  2022-01-04        Married     bachelor           nan  Middle-Aged  \n",
       "78   2022-03-20            nan  High School      New York  Middle-Aged  \n",
       "28   2022-01-29            nan     bachelor       Houston        Young  \n",
       "79   2022-03-21        Widowed          nan           nan        Young  \n",
       "5    2022-01-06            nan          nan   Los Angeles        Young  "
      ]
     },
     "execution_count": 267,
     "metadata": {},
     "output_type": "execute_result"
    }
   ],
   "source": [
    "# Split the dataset into training and testing sets\n",
    "train_data, test_data = train_test_split(data, test_size=0.3, random_state=42)\n",
    "\n",
    "print(\"Training Set:\")\n",
    "train_data.head()\n"
   ]
  },
  {
   "cell_type": "code",
   "execution_count": null,
   "metadata": {},
   "outputs": [
    {
     "name": "stdout",
     "output_type": "stream",
     "text": [
      "\n",
      "Testing Set:\n"
     ]
    },
    {
     "data": {
      "text/html": [
       "<div>\n",
       "<style scoped>\n",
       "    .dataframe tbody tr th:only-of-type {\n",
       "        vertical-align: middle;\n",
       "    }\n",
       "\n",
       "    .dataframe tbody tr th {\n",
       "        vertical-align: top;\n",
       "    }\n",
       "\n",
       "    .dataframe thead th {\n",
       "        text-align: right;\n",
       "    }\n",
       "</style>\n",
       "<table border=\"1\" class=\"dataframe\">\n",
       "  <thead>\n",
       "    <tr style=\"text-align: right;\">\n",
       "      <th></th>\n",
       "      <th>Customer_ID</th>\n",
       "      <th>Age</th>\n",
       "      <th>Salary</th>\n",
       "      <th>City</th>\n",
       "      <th>Gender</th>\n",
       "      <th>Purchase_Amount</th>\n",
       "      <th>Signup_Date</th>\n",
       "      <th>Marital_Status</th>\n",
       "      <th>Education</th>\n",
       "      <th>City_Simp_Imp</th>\n",
       "      <th>Age Group</th>\n",
       "    </tr>\n",
       "  </thead>\n",
       "  <tbody>\n",
       "    <tr>\n",
       "      <th>30</th>\n",
       "      <td>31</td>\n",
       "      <td>35.0</td>\n",
       "      <td>50000.0</td>\n",
       "      <td>nan</td>\n",
       "      <td>nan</td>\n",
       "      <td>1216</td>\n",
       "      <td>2022-01-31</td>\n",
       "      <td>Divorced</td>\n",
       "      <td>bachelor</td>\n",
       "      <td>nan</td>\n",
       "      <td>Middle-Aged</td>\n",
       "    </tr>\n",
       "    <tr>\n",
       "      <th>65</th>\n",
       "      <td>66</td>\n",
       "      <td>40.0</td>\n",
       "      <td>70000.0</td>\n",
       "      <td>New York</td>\n",
       "      <td>Male</td>\n",
       "      <td>166</td>\n",
       "      <td>2022-03-07</td>\n",
       "      <td>nan</td>\n",
       "      <td>bachelor</td>\n",
       "      <td>New York</td>\n",
       "      <td>Middle-Aged</td>\n",
       "    </tr>\n",
       "    <tr>\n",
       "      <th>64</th>\n",
       "      <td>65</td>\n",
       "      <td>25.0</td>\n",
       "      <td>30000.0</td>\n",
       "      <td>Houston</td>\n",
       "      <td>nan</td>\n",
       "      <td>790</td>\n",
       "      <td>2022-03-06</td>\n",
       "      <td>Single</td>\n",
       "      <td>PhD</td>\n",
       "      <td>Houston</td>\n",
       "      <td>Young</td>\n",
       "    </tr>\n",
       "    <tr>\n",
       "      <th>53</th>\n",
       "      <td>54</td>\n",
       "      <td>25.0</td>\n",
       "      <td>70000.0</td>\n",
       "      <td>Chicago</td>\n",
       "      <td>nan</td>\n",
       "      <td>4192</td>\n",
       "      <td>2022-02-23</td>\n",
       "      <td>Married</td>\n",
       "      <td>Master</td>\n",
       "      <td>Chicago</td>\n",
       "      <td>Young</td>\n",
       "    </tr>\n",
       "    <tr>\n",
       "      <th>45</th>\n",
       "      <td>46</td>\n",
       "      <td>25.0</td>\n",
       "      <td>30000.0</td>\n",
       "      <td>Chicago</td>\n",
       "      <td>Female</td>\n",
       "      <td>2541</td>\n",
       "      <td>2022-02-15</td>\n",
       "      <td>Married</td>\n",
       "      <td>High School</td>\n",
       "      <td>Chicago</td>\n",
       "      <td>Young</td>\n",
       "    </tr>\n",
       "  </tbody>\n",
       "</table>\n",
       "</div>"
      ],
      "text/plain": [
       "    Customer_ID   Age   Salary      City  Gender  Purchase_Amount Signup_Date  \\\n",
       "30           31  35.0  50000.0       nan     nan             1216  2022-01-31   \n",
       "65           66  40.0  70000.0  New York    Male              166  2022-03-07   \n",
       "64           65  25.0  30000.0   Houston     nan              790  2022-03-06   \n",
       "53           54  25.0  70000.0   Chicago     nan             4192  2022-02-23   \n",
       "45           46  25.0  30000.0   Chicago  Female             2541  2022-02-15   \n",
       "\n",
       "   Marital_Status    Education City_Simp_Imp    Age Group  \n",
       "30       Divorced     bachelor           nan  Middle-Aged  \n",
       "65            nan     bachelor      New York  Middle-Aged  \n",
       "64         Single          PhD       Houston        Young  \n",
       "53        Married       Master       Chicago        Young  \n",
       "45        Married  High School       Chicago        Young  "
      ]
     },
     "execution_count": 268,
     "metadata": {},
     "output_type": "execute_result"
    }
   ],
   "source": [
    "print(\"\\nTesting Set:\")\n",
    "test_data.head()"
   ]
  },
  {
   "cell_type": "markdown",
   "metadata": {},
   "source": [
    "### 10. Exploratory Data Analysis (EDA)\n",
    "* Generate at least three insightful visualizations (e.g., bar charts, histograms, scatter plots) to analyze relationships between variables in the dataset. Provide a summary of your findings."
   ]
  },
  {
   "cell_type": "code",
   "execution_count": null,
   "metadata": {},
   "outputs": [],
   "source": [
    "data.drop(data.columns[9], axis=1, inplace=True)"
   ]
  },
  {
   "cell_type": "code",
   "execution_count": null,
   "metadata": {},
   "outputs": [
    {
     "name": "stdout",
     "output_type": "stream",
     "text": [
      "<class 'pandas.core.frame.DataFrame'>\n",
      "RangeIndex: 105 entries, 0 to 104\n",
      "Data columns (total 10 columns):\n",
      " #   Column           Non-Null Count  Dtype   \n",
      "---  ------           --------------  -----   \n",
      " 0   Customer_ID      105 non-null    int64   \n",
      " 1   Age              105 non-null    float64 \n",
      " 2   Salary           105 non-null    float64 \n",
      " 3   City             105 non-null    object  \n",
      " 4   Gender           105 non-null    object  \n",
      " 5   Purchase_Amount  105 non-null    int64   \n",
      " 6   Signup_Date      105 non-null    object  \n",
      " 7   Marital_Status   105 non-null    object  \n",
      " 8   Education        105 non-null    object  \n",
      " 9   Age Group        105 non-null    category\n",
      "dtypes: category(1), float64(2), int64(2), object(5)\n",
      "memory usage: 7.7+ KB\n"
     ]
    }
   ],
   "source": [
    "data.info()"
   ]
  },
  {
   "cell_type": "code",
   "execution_count": null,
   "metadata": {},
   "outputs": [
    {
     "data": {
      "image/png": "[encoded data removed]",
      "text/plain": [
       "<Figure size 1000x600 with 1 Axes>"
      ]
     },
     "metadata": {},
     "output_type": "display_data"
    },
    {
     "data": {
      "image/png": "[encoded data removed]",
      "text/plain": [
       "<Figure size 800x800 with 1 Axes>"
      ]
     },
     "metadata": {},
     "output_type": "display_data"
    },
    {
     "data": {
      "image/png": "[encoded data removed]",
      "text/plain": [
       "<Figure size 1000x600 with 1 Axes>"
      ]
     },
     "metadata": {},
     "output_type": "display_data"
    }
   ],
   "source": [
    "# Distribution of Age Groups\n",
    "plt.figure(figsize=(10, 6))\n",
    "age_group_counts = data['Age Group'].value_counts()\n",
    "age_group_counts.plot(kind='bar', color='skyblue')\n",
    "plt.title('Distribution of Age Groups')\n",
    "plt.xlabel('Age Group')\n",
    "plt.ylabel('Number of Customers')\n",
    "plt.xticks(rotation=0)\n",
    "plt.show()\n",
    "\n",
    "# Gender Distribution\n",
    "plt.figure(figsize=(8, 8))\n",
    "gender_counts = data['Gender'].value_counts()\n",
    "gender_counts.plot(kind='pie', autopct='%1.1f%%', colors=['lightcoral', 'lightskyblue', 'lightgreen', 'lightgray'])\n",
    "plt.title('Gender Distribution')\n",
    "plt.ylabel('')\n",
    "plt.show()\n",
    "\n",
    "# Purchase Amount vs. Salary\n",
    "plt.figure(figsize=(10, 6))\n",
    "plt.scatter(data['Salary'], data['Purchase_Amount'], alpha=0.5, c='blue')\n",
    "plt.title('Purchase Amount vs. Salary')\n",
    "plt.xlabel('Salary')\n",
    "plt.ylabel('Purchase Amount')\n",
    "plt.grid(True)\n",
    "plt.show()"
   ]
  }
 ],
 "metadata": {
  "kernelspec": {
   "display_name": "Python 3",
   "language": "python",
   "name": "python3"
  },
  "language_info": {
   "codemirror_mode": {
    "name": "ipython",
    "version": 3
   },
   "file_extension": ".py",
   "mimetype": "text/x-python",
   "name": "python",
   "nbconvert_exporter": "python",
   "pygments_lexer": "ipython3",
   "version": "3.13.1"
  }
 },
 "nbformat": 4,
 "nbformat_minor": 2
}
